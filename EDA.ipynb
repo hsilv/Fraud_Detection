{
 "cells": [
  {
   "cell_type": "code",
   "execution_count": null,
   "metadata": {
    "id": "a0NhWMNSH63b"
   },
   "outputs": [],
   "source": [
    "import numpy as np\n",
    "import pandas as pd\n",
    "import matplotlib.pyplot as plt\n",
    "import streamlit as st\n",
    "plt.rcParams['font.family'] = 'Liberation Sans'\n",
    "\n",
    "import seaborn as sns\n",
    "import kagglehub\n",
    "import os\n",
    "\n",
    "#!pip install pycaret\n",
    "import pycaret\n",
    "from pycaret.classification import *"
   ]
  },
  {
   "cell_type": "code",
   "execution_count": 8,
   "metadata": {
    "colab": {
     "base_uri": "https://localhost:8080/"
    },
    "id": "zxr9VvAMQxio",
    "outputId": "9e9ed1df-ec73-47fa-e1cb-8ff60f68bb99"
   },
   "outputs": [],
   "source": [
    "# descargar la última versión del archivo\n",
    "path = kagglehub.dataset_download(\"kartik2112/fraud-detection\")"
   ]
  },
  {
   "cell_type": "code",
   "execution_count": null,
   "metadata": {
    "colab": {
     "base_uri": "https://localhost:8080/",
     "height": 533
    },
    "id": "_2addU7JPeU4",
    "outputId": "1e3d3a3b-8366-43e9-d212-66c75d7fae74"
   },
   "outputs": [
    {
     "data": {
      "text/html": [
       "<div>\n",
       "<style scoped>\n",
       "    .dataframe tbody tr th:only-of-type {\n",
       "        vertical-align: middle;\n",
       "    }\n",
       "\n",
       "    .dataframe tbody tr th {\n",
       "        vertical-align: top;\n",
       "    }\n",
       "\n",
       "    .dataframe thead th {\n",
       "        text-align: right;\n",
       "    }\n",
       "</style>\n",
       "<table border=\"1\" class=\"dataframe\">\n",
       "  <thead>\n",
       "    <tr style=\"text-align: right;\">\n",
       "      <th></th>\n",
       "      <th>trans_date_trans_time</th>\n",
       "      <th>cc_num</th>\n",
       "      <th>merchant</th>\n",
       "      <th>category</th>\n",
       "      <th>amt</th>\n",
       "      <th>first</th>\n",
       "      <th>last</th>\n",
       "      <th>gender</th>\n",
       "      <th>street</th>\n",
       "      <th>city</th>\n",
       "      <th>...</th>\n",
       "      <th>lat</th>\n",
       "      <th>long</th>\n",
       "      <th>city_pop</th>\n",
       "      <th>job</th>\n",
       "      <th>dob</th>\n",
       "      <th>trans_num</th>\n",
       "      <th>unix_time</th>\n",
       "      <th>merch_lat</th>\n",
       "      <th>merch_long</th>\n",
       "      <th>is_fraud</th>\n",
       "    </tr>\n",
       "  </thead>\n",
       "  <tbody>\n",
       "    <tr>\n",
       "      <th>0</th>\n",
       "      <td>2019-01-01 00:00:18</td>\n",
       "      <td>2703186189652095</td>\n",
       "      <td>fraud_Rippin, Kub and Mann</td>\n",
       "      <td>misc_net</td>\n",
       "      <td>4.97</td>\n",
       "      <td>Jennifer</td>\n",
       "      <td>Banks</td>\n",
       "      <td>F</td>\n",
       "      <td>561 Perry Cove</td>\n",
       "      <td>Moravian Falls</td>\n",
       "      <td>...</td>\n",
       "      <td>36.0788</td>\n",
       "      <td>-81.1781</td>\n",
       "      <td>3495</td>\n",
       "      <td>Psychologist, counselling</td>\n",
       "      <td>1988-03-09</td>\n",
       "      <td>0b242abb623afc578575680df30655b9</td>\n",
       "      <td>1325376018</td>\n",
       "      <td>36.011293</td>\n",
       "      <td>-82.048315</td>\n",
       "      <td>0</td>\n",
       "    </tr>\n",
       "    <tr>\n",
       "      <th>1</th>\n",
       "      <td>2019-01-01 00:00:44</td>\n",
       "      <td>630423337322</td>\n",
       "      <td>fraud_Heller, Gutmann and Zieme</td>\n",
       "      <td>grocery_pos</td>\n",
       "      <td>107.23</td>\n",
       "      <td>Stephanie</td>\n",
       "      <td>Gill</td>\n",
       "      <td>F</td>\n",
       "      <td>43039 Riley Greens Suite 393</td>\n",
       "      <td>Orient</td>\n",
       "      <td>...</td>\n",
       "      <td>48.8878</td>\n",
       "      <td>-118.2105</td>\n",
       "      <td>149</td>\n",
       "      <td>Special educational needs teacher</td>\n",
       "      <td>1978-06-21</td>\n",
       "      <td>1f76529f8574734946361c461b024d99</td>\n",
       "      <td>1325376044</td>\n",
       "      <td>49.159047</td>\n",
       "      <td>-118.186462</td>\n",
       "      <td>0</td>\n",
       "    </tr>\n",
       "    <tr>\n",
       "      <th>2</th>\n",
       "      <td>2019-01-01 00:00:51</td>\n",
       "      <td>38859492057661</td>\n",
       "      <td>fraud_Lind-Buckridge</td>\n",
       "      <td>entertainment</td>\n",
       "      <td>220.11</td>\n",
       "      <td>Edward</td>\n",
       "      <td>Sanchez</td>\n",
       "      <td>M</td>\n",
       "      <td>594 White Dale Suite 530</td>\n",
       "      <td>Malad City</td>\n",
       "      <td>...</td>\n",
       "      <td>42.1808</td>\n",
       "      <td>-112.2620</td>\n",
       "      <td>4154</td>\n",
       "      <td>Nature conservation officer</td>\n",
       "      <td>1962-01-19</td>\n",
       "      <td>a1a22d70485983eac12b5b88dad1cf95</td>\n",
       "      <td>1325376051</td>\n",
       "      <td>43.150704</td>\n",
       "      <td>-112.154481</td>\n",
       "      <td>0</td>\n",
       "    </tr>\n",
       "    <tr>\n",
       "      <th>3</th>\n",
       "      <td>2019-01-01 00:01:16</td>\n",
       "      <td>3534093764340240</td>\n",
       "      <td>fraud_Kutch, Hermiston and Farrell</td>\n",
       "      <td>gas_transport</td>\n",
       "      <td>45.00</td>\n",
       "      <td>Jeremy</td>\n",
       "      <td>White</td>\n",
       "      <td>M</td>\n",
       "      <td>9443 Cynthia Court Apt. 038</td>\n",
       "      <td>Boulder</td>\n",
       "      <td>...</td>\n",
       "      <td>46.2306</td>\n",
       "      <td>-112.1138</td>\n",
       "      <td>1939</td>\n",
       "      <td>Patent attorney</td>\n",
       "      <td>1967-01-12</td>\n",
       "      <td>6b849c168bdad6f867558c3793159a81</td>\n",
       "      <td>1325376076</td>\n",
       "      <td>47.034331</td>\n",
       "      <td>-112.561071</td>\n",
       "      <td>0</td>\n",
       "    </tr>\n",
       "    <tr>\n",
       "      <th>4</th>\n",
       "      <td>2019-01-01 00:03:06</td>\n",
       "      <td>375534208663984</td>\n",
       "      <td>fraud_Keeling-Crist</td>\n",
       "      <td>misc_pos</td>\n",
       "      <td>41.96</td>\n",
       "      <td>Tyler</td>\n",
       "      <td>Garcia</td>\n",
       "      <td>M</td>\n",
       "      <td>408 Bradley Rest</td>\n",
       "      <td>Doe Hill</td>\n",
       "      <td>...</td>\n",
       "      <td>38.4207</td>\n",
       "      <td>-79.4629</td>\n",
       "      <td>99</td>\n",
       "      <td>Dance movement psychotherapist</td>\n",
       "      <td>1986-03-28</td>\n",
       "      <td>a41d7549acf90789359a9aa5346dcb46</td>\n",
       "      <td>1325376186</td>\n",
       "      <td>38.674999</td>\n",
       "      <td>-78.632459</td>\n",
       "      <td>0</td>\n",
       "    </tr>\n",
       "  </tbody>\n",
       "</table>\n",
       "<p>5 rows × 22 columns</p>\n",
       "</div>"
      ],
      "text/plain": [
       "  trans_date_trans_time            cc_num                            merchant  \\\n",
       "0   2019-01-01 00:00:18  2703186189652095          fraud_Rippin, Kub and Mann   \n",
       "1   2019-01-01 00:00:44      630423337322     fraud_Heller, Gutmann and Zieme   \n",
       "2   2019-01-01 00:00:51    38859492057661                fraud_Lind-Buckridge   \n",
       "3   2019-01-01 00:01:16  3534093764340240  fraud_Kutch, Hermiston and Farrell   \n",
       "4   2019-01-01 00:03:06   375534208663984                 fraud_Keeling-Crist   \n",
       "\n",
       "        category     amt      first     last gender  \\\n",
       "0       misc_net    4.97   Jennifer    Banks      F   \n",
       "1    grocery_pos  107.23  Stephanie     Gill      F   \n",
       "2  entertainment  220.11     Edward  Sanchez      M   \n",
       "3  gas_transport   45.00     Jeremy    White      M   \n",
       "4       misc_pos   41.96      Tyler   Garcia      M   \n",
       "\n",
       "                         street            city  ...      lat      long  \\\n",
       "0                561 Perry Cove  Moravian Falls  ...  36.0788  -81.1781   \n",
       "1  43039 Riley Greens Suite 393          Orient  ...  48.8878 -118.2105   \n",
       "2      594 White Dale Suite 530      Malad City  ...  42.1808 -112.2620   \n",
       "3   9443 Cynthia Court Apt. 038         Boulder  ...  46.2306 -112.1138   \n",
       "4              408 Bradley Rest        Doe Hill  ...  38.4207  -79.4629   \n",
       "\n",
       "   city_pop                                job         dob  \\\n",
       "0      3495          Psychologist, counselling  1988-03-09   \n",
       "1       149  Special educational needs teacher  1978-06-21   \n",
       "2      4154        Nature conservation officer  1962-01-19   \n",
       "3      1939                    Patent attorney  1967-01-12   \n",
       "4        99     Dance movement psychotherapist  1986-03-28   \n",
       "\n",
       "                          trans_num   unix_time  merch_lat  merch_long  \\\n",
       "0  0b242abb623afc578575680df30655b9  1325376018  36.011293  -82.048315   \n",
       "1  1f76529f8574734946361c461b024d99  1325376044  49.159047 -118.186462   \n",
       "2  a1a22d70485983eac12b5b88dad1cf95  1325376051  43.150704 -112.154481   \n",
       "3  6b849c168bdad6f867558c3793159a81  1325376076  47.034331 -112.561071   \n",
       "4  a41d7549acf90789359a9aa5346dcb46  1325376186  38.674999  -78.632459   \n",
       "\n",
       "   is_fraud  \n",
       "0         0  \n",
       "1         0  \n",
       "2         0  \n",
       "3         0  \n",
       "4         0  \n",
       "\n",
       "[5 rows x 22 columns]"
      ]
     },
     "execution_count": 9,
     "metadata": {},
     "output_type": "execute_result"
    }
   ],
   "source": [
    "st.title(\"Análisis Exploratorio de Datos\")\n",
    "csv_file_path = os.path.join(path, 'fraudTrain.csv')\n",
    "# cargar el dataset en un DataFrame\n",
    "df = pd.read_csv(csv_file_path, index_col=0)\n",
    "\n",
    "st.subheader(\"Tabla de datos\")\n",
    "st.dataframe(df)\n",
    "\n",
    "df.head()"
   ]
  },
  {
   "cell_type": "code",
   "execution_count": 10,
   "metadata": {
    "colab": {
     "base_uri": "https://localhost:8080/"
    },
    "id": "MLjUUSp7C-eB",
    "outputId": "e2f0bcbf-cf21-4cae-fb37-93c963495594"
   },
   "outputs": [
    {
     "data": {
      "text/plain": [
       "1296675"
      ]
     },
     "execution_count": 10,
     "metadata": {},
     "output_type": "execute_result"
    }
   ],
   "source": [
    "df.trans_num.unique().size"
   ]
  },
  {
   "cell_type": "markdown",
   "metadata": {
    "id": "c8Xdpw-vBwfq"
   },
   "source": [
    "## Variables\n"
   ]
  },
  {
   "cell_type": "markdown",
   "metadata": {
    "id": "2xmZMDMPSyH9"
   },
   "source": [
    "# Limpieza"
   ]
  },
  {
   "cell_type": "code",
   "execution_count": 11,
   "metadata": {
    "colab": {
     "base_uri": "https://localhost:8080/"
    },
    "id": "KqqjA2wjMPdy",
    "outputId": "7cf79f4a-e54a-476b-a5d7-8a6f8a1f58d1"
   },
   "outputs": [
    {
     "data": {
      "text/plain": [
       "(1296675, 22)"
      ]
     },
     "execution_count": 11,
     "metadata": {},
     "output_type": "execute_result"
    }
   ],
   "source": [
    "df.shape"
   ]
  },
  {
   "cell_type": "code",
   "execution_count": 12,
   "metadata": {
    "colab": {
     "base_uri": "https://localhost:8080/"
    },
    "id": "SMv0V8YHMP2C",
    "outputId": "afb99ef5-2f2d-45e8-8c6d-c1c3e5824c3d"
   },
   "outputs": [
    {
     "name": "stdout",
     "output_type": "stream",
     "text": [
      "\"trans_date_trans_time\", cantidad de valores únicos: 1274791\n",
      "\"cc_num\", cantidad de valores únicos: 983\n",
      "\"merchant\", cantidad de valores únicos: 693\n",
      "\"category\", cantidad de valores únicos: 14\n",
      "\"amt\", cantidad de valores únicos: 52928\n",
      "\"first\", cantidad de valores únicos: 352\n",
      "\"last\", cantidad de valores únicos: 481\n",
      "\"gender\", cantidad de valores únicos: 2\n",
      "\"street\", cantidad de valores únicos: 983\n",
      "\"city\", cantidad de valores únicos: 894\n",
      "\"state\", cantidad de valores únicos: 51\n",
      "\"zip\", cantidad de valores únicos: 970\n",
      "\"lat\", cantidad de valores únicos: 968\n",
      "\"long\", cantidad de valores únicos: 969\n",
      "\"city_pop\", cantidad de valores únicos: 879\n",
      "\"job\", cantidad de valores únicos: 494\n",
      "\"dob\", cantidad de valores únicos: 968\n",
      "\"trans_num\", cantidad de valores únicos: 1296675\n",
      "\"unix_time\", cantidad de valores únicos: 1274823\n",
      "\"merch_lat\", cantidad de valores únicos: 1247805\n",
      "\"merch_long\", cantidad de valores únicos: 1275745\n",
      "\"is_fraud\", cantidad de valores únicos: 2\n"
     ]
    }
   ],
   "source": [
    "unique_values = {col: df[col].nunique() for col in df.columns}\n",
    "for variable, cantidad in unique_values.items():\n",
    "    print(f'\"{variable}\", cantidad de valores únicos: {cantidad}')"
   ]
  },
  {
   "cell_type": "code",
   "execution_count": 13,
   "metadata": {
    "colab": {
     "base_uri": "https://localhost:8080/",
     "height": 178
    },
    "id": "XX1gkh3AOapZ",
    "outputId": "af176664-85ca-4070-9b2c-a30e36b87f03"
   },
   "outputs": [
    {
     "data": {
      "text/plain": [
       "is_fraud\n",
       "0    1289169\n",
       "1       7506\n",
       "Name: count, dtype: int64"
      ]
     },
     "execution_count": 13,
     "metadata": {},
     "output_type": "execute_result"
    }
   ],
   "source": [
    "df.is_fraud.value_counts()"
   ]
  },
  {
   "cell_type": "code",
   "execution_count": 14,
   "metadata": {
    "colab": {
     "base_uri": "https://localhost:8080/",
     "height": 178
    },
    "id": "K_Bl5nyBRPSh",
    "outputId": "e9f5c76d-c1b5-4f52-f43b-6887522e9d90"
   },
   "outputs": [
    {
     "data": {
      "text/plain": [
       "is_fraud\n",
       "0    1289169\n",
       "1       7506\n",
       "Name: count, dtype: int64"
      ]
     },
     "execution_count": 14,
     "metadata": {},
     "output_type": "execute_result"
    }
   ],
   "source": [
    "df = df.dropna()\n",
    "df.is_fraud.value_counts()"
   ]
  },
  {
   "cell_type": "code",
   "execution_count": 15,
   "metadata": {
    "colab": {
     "base_uri": "https://localhost:8080/",
     "height": 178
    },
    "id": "zdQlCf_GMZUu",
    "outputId": "09694181-25cc-4d16-b261-0a47aa8cadf4"
   },
   "outputs": [
    {
     "data": {
      "text/plain": [
       "is_fraud\n",
       "0    1289169\n",
       "1       7506\n",
       "Name: count, dtype: int64"
      ]
     },
     "execution_count": 15,
     "metadata": {},
     "output_type": "execute_result"
    }
   ],
   "source": [
    "df = df.drop_duplicates()\n",
    "df.is_fraud.value_counts()"
   ]
  },
  {
   "cell_type": "code",
   "execution_count": 16,
   "metadata": {
    "id": "ZxaT5fDoE4Ue"
   },
   "outputs": [],
   "source": [
    "df=df.drop('trans_num',axis=1)\n",
    "df=df.drop('unix_time',axis=1)"
   ]
  },
  {
   "cell_type": "code",
   "execution_count": 17,
   "metadata": {
    "id": "xviZPrhaNFUG"
   },
   "outputs": [],
   "source": [
    "# pasar la fecha a datetime\n",
    "df['trans_date_trans_time'] = pd.to_datetime(df['trans_date_trans_time'])"
   ]
  },
  {
   "cell_type": "code",
   "execution_count": 18,
   "metadata": {
    "id": "HeDB4eZxqnSf"
   },
   "outputs": [],
   "source": [
    "df['dob'] = pd.to_datetime(df['dob'])"
   ]
  },
  {
   "cell_type": "code",
   "execution_count": 19,
   "metadata": {
    "colab": {
     "base_uri": "https://localhost:8080/",
     "height": 860
    },
    "id": "D-haBeCuQk5a",
    "outputId": "44ae5149-e1d8-48fc-d058-9942e650cd04"
   },
   "outputs": [
    {
     "data": {
      "text/html": [
       "<div>\n",
       "<style scoped>\n",
       "    .dataframe tbody tr th:only-of-type {\n",
       "        vertical-align: middle;\n",
       "    }\n",
       "\n",
       "    .dataframe tbody tr th {\n",
       "        vertical-align: top;\n",
       "    }\n",
       "\n",
       "    .dataframe thead th {\n",
       "        text-align: right;\n",
       "    }\n",
       "</style>\n",
       "<table border=\"1\" class=\"dataframe\">\n",
       "  <thead>\n",
       "    <tr style=\"text-align: right;\">\n",
       "      <th></th>\n",
       "      <th>trans_date_trans_time</th>\n",
       "      <th>cc_num</th>\n",
       "      <th>merchant</th>\n",
       "      <th>category</th>\n",
       "      <th>amt</th>\n",
       "      <th>first</th>\n",
       "      <th>last</th>\n",
       "      <th>gender</th>\n",
       "      <th>street</th>\n",
       "      <th>city</th>\n",
       "      <th>state</th>\n",
       "      <th>zip</th>\n",
       "      <th>lat</th>\n",
       "      <th>long</th>\n",
       "      <th>city_pop</th>\n",
       "      <th>job</th>\n",
       "      <th>dob</th>\n",
       "      <th>merch_lat</th>\n",
       "      <th>merch_long</th>\n",
       "      <th>is_fraud</th>\n",
       "    </tr>\n",
       "  </thead>\n",
       "  <tbody>\n",
       "    <tr>\n",
       "      <th>0</th>\n",
       "      <td>2019-01-01 00:00:18</td>\n",
       "      <td>2703186189652095</td>\n",
       "      <td>fraud_Rippin, Kub and Mann</td>\n",
       "      <td>misc_net</td>\n",
       "      <td>4.97</td>\n",
       "      <td>Jennifer</td>\n",
       "      <td>Banks</td>\n",
       "      <td>F</td>\n",
       "      <td>561 Perry Cove</td>\n",
       "      <td>Moravian Falls</td>\n",
       "      <td>NC</td>\n",
       "      <td>28654</td>\n",
       "      <td>36.0788</td>\n",
       "      <td>-81.1781</td>\n",
       "      <td>3495</td>\n",
       "      <td>Psychologist, counselling</td>\n",
       "      <td>1988-03-09</td>\n",
       "      <td>36.011293</td>\n",
       "      <td>-82.048315</td>\n",
       "      <td>0</td>\n",
       "    </tr>\n",
       "    <tr>\n",
       "      <th>1</th>\n",
       "      <td>2019-01-01 00:00:44</td>\n",
       "      <td>630423337322</td>\n",
       "      <td>fraud_Heller, Gutmann and Zieme</td>\n",
       "      <td>grocery_pos</td>\n",
       "      <td>107.23</td>\n",
       "      <td>Stephanie</td>\n",
       "      <td>Gill</td>\n",
       "      <td>F</td>\n",
       "      <td>43039 Riley Greens Suite 393</td>\n",
       "      <td>Orient</td>\n",
       "      <td>WA</td>\n",
       "      <td>99160</td>\n",
       "      <td>48.8878</td>\n",
       "      <td>-118.2105</td>\n",
       "      <td>149</td>\n",
       "      <td>Special educational needs teacher</td>\n",
       "      <td>1978-06-21</td>\n",
       "      <td>49.159047</td>\n",
       "      <td>-118.186462</td>\n",
       "      <td>0</td>\n",
       "    </tr>\n",
       "    <tr>\n",
       "      <th>2</th>\n",
       "      <td>2019-01-01 00:00:51</td>\n",
       "      <td>38859492057661</td>\n",
       "      <td>fraud_Lind-Buckridge</td>\n",
       "      <td>entertainment</td>\n",
       "      <td>220.11</td>\n",
       "      <td>Edward</td>\n",
       "      <td>Sanchez</td>\n",
       "      <td>M</td>\n",
       "      <td>594 White Dale Suite 530</td>\n",
       "      <td>Malad City</td>\n",
       "      <td>ID</td>\n",
       "      <td>83252</td>\n",
       "      <td>42.1808</td>\n",
       "      <td>-112.2620</td>\n",
       "      <td>4154</td>\n",
       "      <td>Nature conservation officer</td>\n",
       "      <td>1962-01-19</td>\n",
       "      <td>43.150704</td>\n",
       "      <td>-112.154481</td>\n",
       "      <td>0</td>\n",
       "    </tr>\n",
       "    <tr>\n",
       "      <th>3</th>\n",
       "      <td>2019-01-01 00:01:16</td>\n",
       "      <td>3534093764340240</td>\n",
       "      <td>fraud_Kutch, Hermiston and Farrell</td>\n",
       "      <td>gas_transport</td>\n",
       "      <td>45.00</td>\n",
       "      <td>Jeremy</td>\n",
       "      <td>White</td>\n",
       "      <td>M</td>\n",
       "      <td>9443 Cynthia Court Apt. 038</td>\n",
       "      <td>Boulder</td>\n",
       "      <td>MT</td>\n",
       "      <td>59632</td>\n",
       "      <td>46.2306</td>\n",
       "      <td>-112.1138</td>\n",
       "      <td>1939</td>\n",
       "      <td>Patent attorney</td>\n",
       "      <td>1967-01-12</td>\n",
       "      <td>47.034331</td>\n",
       "      <td>-112.561071</td>\n",
       "      <td>0</td>\n",
       "    </tr>\n",
       "    <tr>\n",
       "      <th>4</th>\n",
       "      <td>2019-01-01 00:03:06</td>\n",
       "      <td>375534208663984</td>\n",
       "      <td>fraud_Keeling-Crist</td>\n",
       "      <td>misc_pos</td>\n",
       "      <td>41.96</td>\n",
       "      <td>Tyler</td>\n",
       "      <td>Garcia</td>\n",
       "      <td>M</td>\n",
       "      <td>408 Bradley Rest</td>\n",
       "      <td>Doe Hill</td>\n",
       "      <td>VA</td>\n",
       "      <td>24433</td>\n",
       "      <td>38.4207</td>\n",
       "      <td>-79.4629</td>\n",
       "      <td>99</td>\n",
       "      <td>Dance movement psychotherapist</td>\n",
       "      <td>1986-03-28</td>\n",
       "      <td>38.674999</td>\n",
       "      <td>-78.632459</td>\n",
       "      <td>0</td>\n",
       "    </tr>\n",
       "    <tr>\n",
       "      <th>...</th>\n",
       "      <td>...</td>\n",
       "      <td>...</td>\n",
       "      <td>...</td>\n",
       "      <td>...</td>\n",
       "      <td>...</td>\n",
       "      <td>...</td>\n",
       "      <td>...</td>\n",
       "      <td>...</td>\n",
       "      <td>...</td>\n",
       "      <td>...</td>\n",
       "      <td>...</td>\n",
       "      <td>...</td>\n",
       "      <td>...</td>\n",
       "      <td>...</td>\n",
       "      <td>...</td>\n",
       "      <td>...</td>\n",
       "      <td>...</td>\n",
       "      <td>...</td>\n",
       "      <td>...</td>\n",
       "      <td>...</td>\n",
       "    </tr>\n",
       "    <tr>\n",
       "      <th>1296670</th>\n",
       "      <td>2020-06-21 12:12:08</td>\n",
       "      <td>30263540414123</td>\n",
       "      <td>fraud_Reichel Inc</td>\n",
       "      <td>entertainment</td>\n",
       "      <td>15.56</td>\n",
       "      <td>Erik</td>\n",
       "      <td>Patterson</td>\n",
       "      <td>M</td>\n",
       "      <td>162 Jessica Row Apt. 072</td>\n",
       "      <td>Hatch</td>\n",
       "      <td>UT</td>\n",
       "      <td>84735</td>\n",
       "      <td>37.7175</td>\n",
       "      <td>-112.4777</td>\n",
       "      <td>258</td>\n",
       "      <td>Geoscientist</td>\n",
       "      <td>1961-11-24</td>\n",
       "      <td>36.841266</td>\n",
       "      <td>-111.690765</td>\n",
       "      <td>0</td>\n",
       "    </tr>\n",
       "    <tr>\n",
       "      <th>1296671</th>\n",
       "      <td>2020-06-21 12:12:19</td>\n",
       "      <td>6011149206456997</td>\n",
       "      <td>fraud_Abernathy and Sons</td>\n",
       "      <td>food_dining</td>\n",
       "      <td>51.70</td>\n",
       "      <td>Jeffrey</td>\n",
       "      <td>White</td>\n",
       "      <td>M</td>\n",
       "      <td>8617 Holmes Terrace Suite 651</td>\n",
       "      <td>Tuscarora</td>\n",
       "      <td>MD</td>\n",
       "      <td>21790</td>\n",
       "      <td>39.2667</td>\n",
       "      <td>-77.5101</td>\n",
       "      <td>100</td>\n",
       "      <td>Production assistant, television</td>\n",
       "      <td>1979-12-11</td>\n",
       "      <td>38.906881</td>\n",
       "      <td>-78.246528</td>\n",
       "      <td>0</td>\n",
       "    </tr>\n",
       "    <tr>\n",
       "      <th>1296672</th>\n",
       "      <td>2020-06-21 12:12:32</td>\n",
       "      <td>3514865930894695</td>\n",
       "      <td>fraud_Stiedemann Ltd</td>\n",
       "      <td>food_dining</td>\n",
       "      <td>105.93</td>\n",
       "      <td>Christopher</td>\n",
       "      <td>Castaneda</td>\n",
       "      <td>M</td>\n",
       "      <td>1632 Cohen Drive Suite 639</td>\n",
       "      <td>High Rolls Mountain Park</td>\n",
       "      <td>NM</td>\n",
       "      <td>88325</td>\n",
       "      <td>32.9396</td>\n",
       "      <td>-105.8189</td>\n",
       "      <td>899</td>\n",
       "      <td>Naval architect</td>\n",
       "      <td>1967-08-30</td>\n",
       "      <td>33.619513</td>\n",
       "      <td>-105.130529</td>\n",
       "      <td>0</td>\n",
       "    </tr>\n",
       "    <tr>\n",
       "      <th>1296673</th>\n",
       "      <td>2020-06-21 12:13:36</td>\n",
       "      <td>2720012583106919</td>\n",
       "      <td>fraud_Reinger, Weissnat and Strosin</td>\n",
       "      <td>food_dining</td>\n",
       "      <td>74.90</td>\n",
       "      <td>Joseph</td>\n",
       "      <td>Murray</td>\n",
       "      <td>M</td>\n",
       "      <td>42933 Ryan Underpass</td>\n",
       "      <td>Manderson</td>\n",
       "      <td>SD</td>\n",
       "      <td>57756</td>\n",
       "      <td>43.3526</td>\n",
       "      <td>-102.5411</td>\n",
       "      <td>1126</td>\n",
       "      <td>Volunteer coordinator</td>\n",
       "      <td>1980-08-18</td>\n",
       "      <td>42.788940</td>\n",
       "      <td>-103.241160</td>\n",
       "      <td>0</td>\n",
       "    </tr>\n",
       "    <tr>\n",
       "      <th>1296674</th>\n",
       "      <td>2020-06-21 12:13:37</td>\n",
       "      <td>4292902571056973207</td>\n",
       "      <td>fraud_Langosh, Wintheiser and Hyatt</td>\n",
       "      <td>food_dining</td>\n",
       "      <td>4.30</td>\n",
       "      <td>Jeffrey</td>\n",
       "      <td>Smith</td>\n",
       "      <td>M</td>\n",
       "      <td>135 Joseph Mountains</td>\n",
       "      <td>Sula</td>\n",
       "      <td>MT</td>\n",
       "      <td>59871</td>\n",
       "      <td>45.8433</td>\n",
       "      <td>-113.8748</td>\n",
       "      <td>218</td>\n",
       "      <td>Therapist, horticultural</td>\n",
       "      <td>1995-08-16</td>\n",
       "      <td>46.565983</td>\n",
       "      <td>-114.186110</td>\n",
       "      <td>0</td>\n",
       "    </tr>\n",
       "  </tbody>\n",
       "</table>\n",
       "<p>1296675 rows × 20 columns</p>\n",
       "</div>"
      ],
      "text/plain": [
       "        trans_date_trans_time               cc_num  \\\n",
       "0         2019-01-01 00:00:18     2703186189652095   \n",
       "1         2019-01-01 00:00:44         630423337322   \n",
       "2         2019-01-01 00:00:51       38859492057661   \n",
       "3         2019-01-01 00:01:16     3534093764340240   \n",
       "4         2019-01-01 00:03:06      375534208663984   \n",
       "...                       ...                  ...   \n",
       "1296670   2020-06-21 12:12:08       30263540414123   \n",
       "1296671   2020-06-21 12:12:19     6011149206456997   \n",
       "1296672   2020-06-21 12:12:32     3514865930894695   \n",
       "1296673   2020-06-21 12:13:36     2720012583106919   \n",
       "1296674   2020-06-21 12:13:37  4292902571056973207   \n",
       "\n",
       "                                    merchant       category     amt  \\\n",
       "0                 fraud_Rippin, Kub and Mann       misc_net    4.97   \n",
       "1            fraud_Heller, Gutmann and Zieme    grocery_pos  107.23   \n",
       "2                       fraud_Lind-Buckridge  entertainment  220.11   \n",
       "3         fraud_Kutch, Hermiston and Farrell  gas_transport   45.00   \n",
       "4                        fraud_Keeling-Crist       misc_pos   41.96   \n",
       "...                                      ...            ...     ...   \n",
       "1296670                    fraud_Reichel Inc  entertainment   15.56   \n",
       "1296671             fraud_Abernathy and Sons    food_dining   51.70   \n",
       "1296672                 fraud_Stiedemann Ltd    food_dining  105.93   \n",
       "1296673  fraud_Reinger, Weissnat and Strosin    food_dining   74.90   \n",
       "1296674  fraud_Langosh, Wintheiser and Hyatt    food_dining    4.30   \n",
       "\n",
       "               first       last gender                         street  \\\n",
       "0           Jennifer      Banks      F                 561 Perry Cove   \n",
       "1          Stephanie       Gill      F   43039 Riley Greens Suite 393   \n",
       "2             Edward    Sanchez      M       594 White Dale Suite 530   \n",
       "3             Jeremy      White      M    9443 Cynthia Court Apt. 038   \n",
       "4              Tyler     Garcia      M               408 Bradley Rest   \n",
       "...              ...        ...    ...                            ...   \n",
       "1296670         Erik  Patterson      M       162 Jessica Row Apt. 072   \n",
       "1296671      Jeffrey      White      M  8617 Holmes Terrace Suite 651   \n",
       "1296672  Christopher  Castaneda      M     1632 Cohen Drive Suite 639   \n",
       "1296673       Joseph     Murray      M           42933 Ryan Underpass   \n",
       "1296674      Jeffrey      Smith      M           135 Joseph Mountains   \n",
       "\n",
       "                             city state    zip      lat      long  city_pop  \\\n",
       "0                  Moravian Falls    NC  28654  36.0788  -81.1781      3495   \n",
       "1                          Orient    WA  99160  48.8878 -118.2105       149   \n",
       "2                      Malad City    ID  83252  42.1808 -112.2620      4154   \n",
       "3                         Boulder    MT  59632  46.2306 -112.1138      1939   \n",
       "4                        Doe Hill    VA  24433  38.4207  -79.4629        99   \n",
       "...                           ...   ...    ...      ...       ...       ...   \n",
       "1296670                     Hatch    UT  84735  37.7175 -112.4777       258   \n",
       "1296671                 Tuscarora    MD  21790  39.2667  -77.5101       100   \n",
       "1296672  High Rolls Mountain Park    NM  88325  32.9396 -105.8189       899   \n",
       "1296673                 Manderson    SD  57756  43.3526 -102.5411      1126   \n",
       "1296674                      Sula    MT  59871  45.8433 -113.8748       218   \n",
       "\n",
       "                                       job        dob  merch_lat  merch_long  \\\n",
       "0                Psychologist, counselling 1988-03-09  36.011293  -82.048315   \n",
       "1        Special educational needs teacher 1978-06-21  49.159047 -118.186462   \n",
       "2              Nature conservation officer 1962-01-19  43.150704 -112.154481   \n",
       "3                          Patent attorney 1967-01-12  47.034331 -112.561071   \n",
       "4           Dance movement psychotherapist 1986-03-28  38.674999  -78.632459   \n",
       "...                                    ...        ...        ...         ...   \n",
       "1296670                       Geoscientist 1961-11-24  36.841266 -111.690765   \n",
       "1296671   Production assistant, television 1979-12-11  38.906881  -78.246528   \n",
       "1296672                    Naval architect 1967-08-30  33.619513 -105.130529   \n",
       "1296673              Volunteer coordinator 1980-08-18  42.788940 -103.241160   \n",
       "1296674           Therapist, horticultural 1995-08-16  46.565983 -114.186110   \n",
       "\n",
       "         is_fraud  \n",
       "0               0  \n",
       "1               0  \n",
       "2               0  \n",
       "3               0  \n",
       "4               0  \n",
       "...           ...  \n",
       "1296670         0  \n",
       "1296671         0  \n",
       "1296672         0  \n",
       "1296673         0  \n",
       "1296674         0  \n",
       "\n",
       "[1296675 rows x 20 columns]"
      ]
     },
     "execution_count": 19,
     "metadata": {},
     "output_type": "execute_result"
    }
   ],
   "source": [
    "df"
   ]
  },
  {
   "cell_type": "code",
   "execution_count": 20,
   "metadata": {
    "colab": {
     "base_uri": "https://localhost:8080/"
    },
    "id": "igZcykPuRDgl",
    "outputId": "9ba60e00-fd9e-4409-895b-2dc8413d34dc"
   },
   "outputs": [
    {
     "data": {
      "text/plain": [
       "(1296675, 20)"
      ]
     },
     "execution_count": 20,
     "metadata": {},
     "output_type": "execute_result"
    }
   ],
   "source": [
    "df.shape"
   ]
  },
  {
   "cell_type": "markdown",
   "metadata": {
    "id": "c5n8htX7Z8lp"
   },
   "source": [
    "# Análisis exploratorio"
   ]
  },
  {
   "cell_type": "markdown",
   "metadata": {
    "id": "6fhhPkBIaAu3"
   },
   "source": [
    "1. Distribución de transacciones fraudulentas y transacciones no fraudulentas\n",
    "2. Patrones relacionados a períodos determinados\n",
    "3. Características relevantes en transacciones fraudulentas"
   ]
  },
  {
   "cell_type": "code",
   "execution_count": 21,
   "metadata": {
    "colab": {
     "base_uri": "https://localhost:8080/"
    },
    "id": "IZT1ZiskJzVS",
    "outputId": "983e0ba1-eed7-483b-abbc-ffde3457643b"
   },
   "outputs": [
    {
     "data": {
      "text/plain": [
       "(7506, 1289169)"
      ]
     },
     "execution_count": 21,
     "metadata": {},
     "output_type": "execute_result"
    }
   ],
   "source": [
    "fraudulent_count = df[df['is_fraud'] == 1].shape[0]\n",
    "non_fraudulent_count = df[df['is_fraud'] == 0].shape[0]\n",
    "\n",
    "fraudulent_count, non_fraudulent_count"
   ]
  },
  {
   "cell_type": "code",
   "execution_count": 22,
   "metadata": {
    "colab": {
     "base_uri": "https://localhost:8080/"
    },
    "id": "7ldMCOxtZ7zp",
    "outputId": "add49047-4e00-46cc-f44d-fe4e1cab28b5"
   },
   "outputs": [
    {
     "name": "stdout",
     "output_type": "stream",
     "text": [
      "Distribución de clases (en porcentaje):\n",
      "is_fraud\n",
      "0    99.421135\n",
      "1     0.578865\n",
      "Name: proportion, dtype: float64\n"
     ]
    }
   ],
   "source": [
    "distribucion = df['is_fraud'].value_counts(normalize=True) * 100\n",
    "print(\"Distribución de clases (en porcentaje):\")\n",
    "print(distribucion)"
   ]
  },
  {
   "cell_type": "code",
   "execution_count": 23,
   "metadata": {
    "colab": {
     "base_uri": "https://localhost:8080/",
     "height": 561
    },
    "id": "iOMq942hF_SO",
    "outputId": "02c61aee-2f28-4486-c116-531ace492605"
   },
   "outputs": [
    {
     "name": "stderr",
     "output_type": "stream",
     "text": [
      "findfont: Font family 'Liberation Sans' not found.\n",
      "findfont: Font family 'Liberation Sans' not found.\n",
      "findfont: Font family 'Liberation Sans' not found.\n",
      "findfont: Font family 'Liberation Sans' not found.\n",
      "findfont: Font family 'Liberation Sans' not found.\n",
      "findfont: Font family 'Liberation Sans' not found.\n",
      "findfont: Font family 'Liberation Sans' not found.\n",
      "findfont: Font family 'Liberation Sans' not found.\n",
      "findfont: Font family 'Liberation Sans' not found.\n",
      "findfont: Font family 'Liberation Sans' not found.\n",
      "findfont: Font family 'Liberation Sans' not found.\n",
      "findfont: Font family 'Liberation Sans' not found.\n",
      "findfont: Font family 'Liberation Sans' not found.\n",
      "findfont: Font family 'Liberation Sans' not found.\n",
      "findfont: Font family 'Liberation Sans' not found.\n",
      "findfont: Font family 'Liberation Sans' not found.\n",
      "findfont: Font family 'Liberation Sans' not found.\n",
      "findfont: Font family 'Liberation Sans' not found.\n",
      "findfont: Font family 'Liberation Sans' not found.\n",
      "findfont: Font family 'Liberation Sans' not found.\n",
      "findfont: Font family 'Liberation Sans' not found.\n",
      "findfont: Font family 'Liberation Sans' not found.\n",
      "findfont: Font family 'Liberation Sans' not found.\n",
      "findfont: Font family 'Liberation Sans' not found.\n",
      "findfont: Font family 'Liberation Sans' not found.\n",
      "findfont: Font family 'Liberation Sans' not found.\n",
      "findfont: Font family 'Liberation Sans' not found.\n",
      "findfont: Font family 'Liberation Sans' not found.\n",
      "findfont: Font family 'Liberation Sans' not found.\n",
      "findfont: Font family 'Liberation Sans' not found.\n",
      "findfont: Font family 'Liberation Sans' not found.\n",
      "findfont: Font family 'Liberation Sans' not found.\n",
      "findfont: Font family 'Liberation Sans' not found.\n",
      "findfont: Font family 'Liberation Sans' not found.\n",
      "findfont: Font family 'Liberation Sans' not found.\n",
      "findfont: Font family 'Liberation Sans' not found.\n",
      "findfont: Font family 'Liberation Sans' not found.\n",
      "findfont: Font family 'Liberation Sans' not found.\n",
      "findfont: Font family 'Liberation Sans' not found.\n",
      "findfont: Font family 'Liberation Sans' not found.\n",
      "findfont: Font family 'Liberation Sans' not found.\n",
      "findfont: Font family 'Liberation Sans' not found.\n",
      "findfont: Font family 'Liberation Sans' not found.\n",
      "findfont: Font family 'Liberation Sans' not found.\n",
      "findfont: Font family 'Liberation Sans' not found.\n",
      "findfont: Font family 'Liberation Sans' not found.\n",
      "findfont: Font family 'Liberation Sans' not found.\n",
      "findfont: Font family 'Liberation Sans' not found.\n",
      "findfont: Font family 'Liberation Sans' not found.\n",
      "findfont: Font family 'Liberation Sans' not found.\n",
      "findfont: Font family 'Liberation Sans' not found.\n",
      "findfont: Font family 'Liberation Sans' not found.\n",
      "findfont: Font family 'Liberation Sans' not found.\n",
      "findfont: Font family 'Liberation Sans' not found.\n",
      "findfont: Font family 'Liberation Sans' not found.\n"
     ]
    },
    {
     "data": {
      "image/png": "[encoded data removed]",
      "text/plain": [
       "<Figure size 1000x600 with 1 Axes>"
      ]
     },
     "metadata": {},
     "output_type": "display_data"
    }
   ],
   "source": [
    "cc_frequency_df = df['cc_num'].value_counts().reset_index()\n",
    "cc_frequency_df.columns = ['cc_num', 'frequency']\n",
    "filtered_cc_frequency_df = cc_frequency_df[cc_frequency_df['cc_num'].astype(float) < 1*10**18]\n",
    "\n",
    "\n",
    "# Graficar la frecuencia de transacciones por cada tarjeta de crédito\n",
    "plt.figure(figsize=(10, 6))\n",
    "plt.bar(filtered_cc_frequency_df['cc_num'], filtered_cc_frequency_df['frequency'], color='skyblue', edgecolor='black')\n",
    "plt.ylabel('Cantidad de Transacciones')\n",
    "plt.title('Cantidad de Transacciones por Tarjeta de Crédito')\n",
    "plt.show()"
   ]
  },
  {
   "cell_type": "code",
   "execution_count": 24,
   "metadata": {
    "colab": {
     "base_uri": "https://localhost:8080/",
     "height": 561
    },
    "id": "fcaEC_AxfQin",
    "outputId": "87e45973-6c80-4194-f575-e8d06d181da6"
   },
   "outputs": [
    {
     "name": "stderr",
     "output_type": "stream",
     "text": [
      "findfont: Font family 'Liberation Sans' not found.\n",
      "findfont: Font family 'Liberation Sans' not found.\n",
      "findfont: Font family 'Liberation Sans' not found.\n",
      "findfont: Font family 'Liberation Sans' not found.\n",
      "findfont: Font family 'Liberation Sans' not found.\n",
      "findfont: Font family 'Liberation Sans' not found.\n",
      "findfont: Font family 'Liberation Sans' not found.\n",
      "findfont: Font family 'Liberation Sans' not found.\n",
      "findfont: Font family 'Liberation Sans' not found.\n",
      "findfont: Font family 'Liberation Sans' not found.\n",
      "findfont: Font family 'Liberation Sans' not found.\n",
      "findfont: Font family 'Liberation Sans' not found.\n",
      "findfont: Font family 'Liberation Sans' not found.\n",
      "findfont: Font family 'Liberation Sans' not found.\n",
      "findfont: Font family 'Liberation Sans' not found.\n",
      "findfont: Font family 'Liberation Sans' not found.\n",
      "findfont: Font family 'Liberation Sans' not found.\n",
      "findfont: Font family 'Liberation Sans' not found.\n",
      "findfont: Font family 'Liberation Sans' not found.\n",
      "findfont: Font family 'Liberation Sans' not found.\n",
      "findfont: Font family 'Liberation Sans' not found.\n",
      "findfont: Font family 'Liberation Sans' not found.\n",
      "findfont: Font family 'Liberation Sans' not found.\n",
      "findfont: Font family 'Liberation Sans' not found.\n",
      "findfont: Font family 'Liberation Sans' not found.\n",
      "findfont: Font family 'Liberation Sans' not found.\n",
      "findfont: Font family 'Liberation Sans' not found.\n",
      "findfont: Font family 'Liberation Sans' not found.\n",
      "findfont: Font family 'Liberation Sans' not found.\n",
      "findfont: Font family 'Liberation Sans' not found.\n",
      "findfont: Font family 'Liberation Sans' not found.\n",
      "findfont: Font family 'Liberation Sans' not found.\n",
      "findfont: Font family 'Liberation Sans' not found.\n",
      "findfont: Font family 'Liberation Sans' not found.\n",
      "findfont: Font family 'Liberation Sans' not found.\n",
      "findfont: Font family 'Liberation Sans' not found.\n",
      "findfont: Font family 'Liberation Sans' not found.\n",
      "findfont: Font family 'Liberation Sans' not found.\n",
      "findfont: Font family 'Liberation Sans' not found.\n",
      "findfont: Font family 'Liberation Sans' not found.\n",
      "findfont: Font family 'Liberation Sans' not found.\n",
      "findfont: Font family 'Liberation Sans' not found.\n",
      "findfont: Font family 'Liberation Sans' not found.\n",
      "findfont: Font family 'Liberation Sans' not found.\n",
      "findfont: Font family 'Liberation Sans' not found.\n",
      "findfont: Font family 'Liberation Sans' not found.\n",
      "findfont: Font family 'Liberation Sans' not found.\n",
      "findfont: Font family 'Liberation Sans' not found.\n",
      "findfont: Font family 'Liberation Sans' not found.\n",
      "findfont: Font family 'Liberation Sans' not found.\n",
      "findfont: Font family 'Liberation Sans' not found.\n",
      "findfont: Font family 'Liberation Sans' not found.\n",
      "findfont: Font family 'Liberation Sans' not found.\n",
      "findfont: Font family 'Liberation Sans' not found.\n"
     ]
    },
    {
     "data": {
      "image/png": "[encoded data removed]",
      "text/plain": [
       "<Figure size 1000x600 with 1 Axes>"
      ]
     },
     "metadata": {},
     "output_type": "display_data"
    }
   ],
   "source": [
    "cc_frequency_df = df['cc_num'].value_counts().reset_index()\n",
    "cc_frequency_df.columns = ['cc_num', 'frequency']\n",
    "filtered_cc_frequency_df = cc_frequency_df[cc_frequency_df['cc_num'].astype(float) > 1*10**18]\n",
    "\n",
    "\n",
    "# Graficar la frecuencia de transacciones por cada tarjeta de crédito\n",
    "plt.figure(figsize=(10, 6))\n",
    "plt.bar(filtered_cc_frequency_df['cc_num'], filtered_cc_frequency_df['frequency'], color='skyblue', edgecolor='black')\n",
    "plt.ylabel('Cantidad de Transacciones')\n",
    "plt.title('Cantidad de Transacciones por Tarjeta de Crédito')\n",
    "plt.show()"
   ]
  },
  {
   "cell_type": "code",
   "execution_count": 25,
   "metadata": {
    "colab": {
     "base_uri": "https://localhost:8080/",
     "height": 564
    },
    "id": "PV5Nw7d1r6bj",
    "outputId": "e421a1a5-0f35-4c38-a186-22748db9a161"
   },
   "outputs": [
    {
     "name": "stderr",
     "output_type": "stream",
     "text": [
      "findfont: Font family 'Liberation Sans' not found.\n",
      "findfont: Font family 'Liberation Sans' not found.\n",
      "findfont: Font family 'Liberation Sans' not found.\n",
      "findfont: Font family 'Liberation Sans' not found.\n",
      "findfont: Font family 'Liberation Sans' not found.\n",
      "findfont: Font family 'Liberation Sans' not found.\n",
      "findfont: Font family 'Liberation Sans' not found.\n",
      "findfont: Font family 'Liberation Sans' not found.\n",
      "findfont: Font family 'Liberation Sans' not found.\n",
      "findfont: Font family 'Liberation Sans' not found.\n",
      "findfont: Font family 'Liberation Sans' not found.\n",
      "findfont: Font family 'Liberation Sans' not found.\n",
      "findfont: Font family 'Liberation Sans' not found.\n",
      "findfont: Font family 'Liberation Sans' not found.\n",
      "findfont: Font family 'Liberation Sans' not found.\n",
      "findfont: Font family 'Liberation Sans' not found.\n",
      "findfont: Font family 'Liberation Sans' not found.\n",
      "findfont: Font family 'Liberation Sans' not found.\n",
      "findfont: Font family 'Liberation Sans' not found.\n",
      "findfont: Font family 'Liberation Sans' not found.\n",
      "findfont: Font family 'Liberation Sans' not found.\n",
      "findfont: Font family 'Liberation Sans' not found.\n",
      "findfont: Font family 'Liberation Sans' not found.\n",
      "findfont: Font family 'Liberation Sans' not found.\n",
      "findfont: Font family 'Liberation Sans' not found.\n",
      "findfont: Font family 'Liberation Sans' not found.\n",
      "findfont: Font family 'Liberation Sans' not found.\n",
      "findfont: Font family 'Liberation Sans' not found.\n",
      "findfont: Font family 'Liberation Sans' not found.\n",
      "findfont: Font family 'Liberation Sans' not found.\n",
      "findfont: Font family 'Liberation Sans' not found.\n",
      "findfont: Font family 'Liberation Sans' not found.\n",
      "findfont: Font family 'Liberation Sans' not found.\n",
      "findfont: Font family 'Liberation Sans' not found.\n",
      "findfont: Font family 'Liberation Sans' not found.\n",
      "findfont: Font family 'Liberation Sans' not found.\n",
      "findfont: Font family 'Liberation Sans' not found.\n",
      "findfont: Font family 'Liberation Sans' not found.\n",
      "findfont: Font family 'Liberation Sans' not found.\n",
      "findfont: Font family 'Liberation Sans' not found.\n",
      "findfont: Font family 'Liberation Sans' not found.\n",
      "findfont: Font family 'Liberation Sans' not found.\n",
      "findfont: Font family 'Liberation Sans' not found.\n",
      "findfont: Font family 'Liberation Sans' not found.\n",
      "findfont: Font family 'Liberation Sans' not found.\n",
      "findfont: Font family 'Liberation Sans' not found.\n",
      "findfont: Font family 'Liberation Sans' not found.\n",
      "findfont: Font family 'Liberation Sans' not found.\n",
      "findfont: Font family 'Liberation Sans' not found.\n",
      "findfont: Font family 'Liberation Sans' not found.\n",
      "findfont: Font family 'Liberation Sans' not found.\n",
      "findfont: Font family 'Liberation Sans' not found.\n",
      "findfont: Font family 'Liberation Sans' not found.\n",
      "findfont: Font family 'Liberation Sans' not found.\n",
      "findfont: Font family 'Liberation Sans' not found.\n",
      "findfont: Font family 'Liberation Sans' not found.\n",
      "findfont: Font family 'Liberation Sans' not found.\n",
      "findfont: Font family 'Liberation Sans' not found.\n",
      "findfont: Font family 'Liberation Sans' not found.\n",
      "findfont: Font family 'Liberation Sans' not found.\n",
      "findfont: Font family 'Liberation Sans' not found.\n",
      "findfont: Font family 'Liberation Sans' not found.\n",
      "findfont: Font family 'Liberation Sans' not found.\n"
     ]
    },
    {
     "data": {
      "image/png": "[encoded data removed]",
      "text/plain": [
       "<Figure size 1000x600 with 1 Axes>"
      ]
     },
     "metadata": {},
     "output_type": "display_data"
    }
   ],
   "source": [
    "fraud_transactions = df[df['is_fraud'] == 1]\n",
    "\n",
    "# Contar la cantidad de transacciones fraudulentas por tarjeta\n",
    "fraud_count_by_card = fraud_transactions['cc_num'].value_counts().reset_index()\n",
    "fraud_count_by_card.columns = ['cc_num', 'frequency']\n",
    "fraud_count_by_card = fraud_count_by_card[fraud_count_by_card['cc_num'].astype(float) < 1*10**18]\n",
    "\n",
    "# Graficar la cantidad de transacciones fraudulentas por tarjeta\n",
    "plt.figure(figsize=(10, 6))\n",
    "plt.bar(fraud_count_by_card['cc_num'], fraud_count_by_card['frequency'], color='salmon', edgecolor='black')\n",
    "plt.xlabel('Número de Tarjeta de Crédito (cc_num)')\n",
    "plt.ylabel('Cantidad de Transacciones Fraudulentas')\n",
    "plt.title('Cantidad de Transacciones Fraudulentas por Tarjeta de Crédito')\n",
    "plt.xticks(rotation=45)\n",
    "plt.grid(axis='y', linestyle='--', alpha=0.7)\n",
    "plt.show()"
   ]
  },
  {
   "cell_type": "code",
   "execution_count": 26,
   "metadata": {
    "colab": {
     "base_uri": "https://localhost:8080/",
     "height": 572
    },
    "id": "nC3jpzt4tS0j",
    "outputId": "bed45375-fd0e-4380-c259-80a4311ae6a0"
   },
   "outputs": [
    {
     "name": "stderr",
     "output_type": "stream",
     "text": [
      "findfont: Font family 'Liberation Sans' not found.\n",
      "findfont: Font family 'Liberation Sans' not found.\n",
      "findfont: Font family 'Liberation Sans' not found.\n",
      "findfont: Font family 'Liberation Sans' not found.\n",
      "findfont: Font family 'Liberation Sans' not found.\n",
      "findfont: Font family 'Liberation Sans' not found.\n",
      "findfont: Font family 'Liberation Sans' not found.\n",
      "findfont: Font family 'Liberation Sans' not found.\n",
      "findfont: Font family 'Liberation Sans' not found.\n",
      "findfont: Font family 'Liberation Sans' not found.\n",
      "findfont: Font family 'Liberation Sans' not found.\n",
      "findfont: Font family 'Liberation Sans' not found.\n",
      "findfont: Font family 'Liberation Sans' not found.\n",
      "findfont: Font family 'Liberation Sans' not found.\n",
      "findfont: Font family 'Liberation Sans' not found.\n",
      "findfont: Font family 'Liberation Sans' not found.\n",
      "findfont: Font family 'Liberation Sans' not found.\n",
      "findfont: Font family 'Liberation Sans' not found.\n",
      "findfont: Font family 'Liberation Sans' not found.\n",
      "findfont: Font family 'Liberation Sans' not found.\n",
      "findfont: Font family 'Liberation Sans' not found.\n",
      "findfont: Font family 'Liberation Sans' not found.\n",
      "findfont: Font family 'Liberation Sans' not found.\n",
      "findfont: Font family 'Liberation Sans' not found.\n",
      "findfont: Font family 'Liberation Sans' not found.\n",
      "findfont: Font family 'Liberation Sans' not found.\n",
      "findfont: Font family 'Liberation Sans' not found.\n",
      "findfont: Font family 'Liberation Sans' not found.\n",
      "findfont: Font family 'Liberation Sans' not found.\n",
      "findfont: Font family 'Liberation Sans' not found.\n",
      "findfont: Font family 'Liberation Sans' not found.\n",
      "findfont: Font family 'Liberation Sans' not found.\n",
      "findfont: Font family 'Liberation Sans' not found.\n",
      "findfont: Font family 'Liberation Sans' not found.\n",
      "findfont: Font family 'Liberation Sans' not found.\n",
      "findfont: Font family 'Liberation Sans' not found.\n",
      "findfont: Font family 'Liberation Sans' not found.\n",
      "findfont: Font family 'Liberation Sans' not found.\n",
      "findfont: Font family 'Liberation Sans' not found.\n",
      "findfont: Font family 'Liberation Sans' not found.\n",
      "findfont: Font family 'Liberation Sans' not found.\n",
      "findfont: Font family 'Liberation Sans' not found.\n",
      "findfont: Font family 'Liberation Sans' not found.\n",
      "findfont: Font family 'Liberation Sans' not found.\n",
      "findfont: Font family 'Liberation Sans' not found.\n",
      "findfont: Font family 'Liberation Sans' not found.\n",
      "findfont: Font family 'Liberation Sans' not found.\n",
      "findfont: Font family 'Liberation Sans' not found.\n",
      "findfont: Font family 'Liberation Sans' not found.\n",
      "findfont: Font family 'Liberation Sans' not found.\n",
      "findfont: Font family 'Liberation Sans' not found.\n",
      "findfont: Font family 'Liberation Sans' not found.\n",
      "findfont: Font family 'Liberation Sans' not found.\n",
      "findfont: Font family 'Liberation Sans' not found.\n",
      "findfont: Font family 'Liberation Sans' not found.\n",
      "findfont: Font family 'Liberation Sans' not found.\n",
      "findfont: Font family 'Liberation Sans' not found.\n",
      "findfont: Font family 'Liberation Sans' not found.\n",
      "findfont: Font family 'Liberation Sans' not found.\n",
      "findfont: Font family 'Liberation Sans' not found.\n",
      "findfont: Font family 'Liberation Sans' not found.\n",
      "findfont: Font family 'Liberation Sans' not found.\n",
      "findfont: Font family 'Liberation Sans' not found.\n"
     ]
    },
    {
     "data": {
      "image/png": "[encoded data removed]",
      "text/plain": [
       "<Figure size 1000x600 with 1 Axes>"
      ]
     },
     "metadata": {},
     "output_type": "display_data"
    }
   ],
   "source": [
    "fraud_transactions = df[df['is_fraud'] == 1]\n",
    "\n",
    "# Contar la cantidad de transacciones fraudulentas por tarjeta\n",
    "fraud_count_by_card = fraud_transactions['cc_num'].value_counts().reset_index()\n",
    "fraud_count_by_card.columns = ['cc_num', 'frequency']\n",
    "fraud_count_by_card = fraud_count_by_card[fraud_count_by_card['cc_num'].astype(float) > 1*10**18]\n",
    "\n",
    "# Graficar la cantidad de transacciones fraudulentas por tarjeta\n",
    "plt.figure(figsize=(10, 6))\n",
    "plt.bar(fraud_count_by_card['cc_num'], fraud_count_by_card['frequency'], color='salmon', edgecolor='black')\n",
    "plt.xlabel('Número de Tarjeta de Crédito (cc_num)')\n",
    "plt.ylabel('Cantidad de Transacciones Fraudulentas')\n",
    "plt.title('Cantidad de Transacciones Fraudulentas por Tarjeta de Crédito')\n",
    "plt.xticks(rotation=45)\n",
    "plt.grid(axis='y', linestyle='--', alpha=0.7)\n",
    "plt.show()"
   ]
  },
  {
   "cell_type": "code",
   "execution_count": 27,
   "metadata": {
    "id": "T0bPwv0Fw0qX"
   },
   "outputs": [],
   "source": [
    "df=df.drop('cc_num',axis=1)\n",
    "df=df.drop('first',axis=1)\n",
    "df=df.drop('last',axis=1)\n",
    "df=df.drop('street',axis=1)\n",
    "df=df.drop('city',axis=1)\n",
    "df=df.drop('zip',axis=1)"
   ]
  },
  {
   "cell_type": "code",
   "execution_count": 28,
   "metadata": {
    "colab": {
     "base_uri": "https://localhost:8080/",
     "height": 579
    },
    "id": "B8DpXzhSaDOc",
    "outputId": "09f516bf-1d93-41da-97e0-33868e7c9148"
   },
   "outputs": [
    {
     "name": "stderr",
     "output_type": "stream",
     "text": [
      "findfont: Font family 'Liberation Sans' not found.\n",
      "findfont: Font family 'Liberation Sans' not found.\n",
      "findfont: Font family 'Liberation Sans' not found.\n",
      "findfont: Font family 'Liberation Sans' not found.\n",
      "findfont: Font family 'Liberation Sans' not found.\n",
      "findfont: Font family 'Liberation Sans' not found.\n",
      "findfont: Font family 'Liberation Sans' not found.\n",
      "findfont: Font family 'Liberation Sans' not found.\n",
      "findfont: Font family 'Liberation Sans' not found.\n",
      "findfont: Font family 'Liberation Sans' not found.\n",
      "findfont: Font family 'Liberation Sans' not found.\n",
      "findfont: Font family 'Liberation Sans' not found.\n",
      "findfont: Font family 'Liberation Sans' not found.\n",
      "findfont: Font family 'Liberation Sans' not found.\n",
      "findfont: Font family 'Liberation Sans' not found.\n",
      "findfont: Font family 'Liberation Sans' not found.\n",
      "findfont: Font family 'Liberation Sans' not found.\n",
      "findfont: Font family 'Liberation Sans' not found.\n",
      "findfont: Font family 'Liberation Sans' not found.\n",
      "findfont: Font family 'Liberation Sans' not found.\n",
      "findfont: Font family 'Liberation Sans' not found.\n",
      "findfont: Font family 'Liberation Sans' not found.\n",
      "findfont: Font family 'Liberation Sans' not found.\n",
      "findfont: Font family 'Liberation Sans' not found.\n",
      "findfont: Font family 'Liberation Sans' not found.\n",
      "findfont: Font family 'Liberation Sans' not found.\n",
      "findfont: Font family 'Liberation Sans' not found.\n",
      "findfont: Font family 'Liberation Sans' not found.\n",
      "findfont: Font family 'Liberation Sans' not found.\n",
      "findfont: Font family 'Liberation Sans' not found.\n",
      "findfont: Font family 'Liberation Sans' not found.\n",
      "findfont: Font family 'Liberation Sans' not found.\n",
      "findfont: Font family 'Liberation Sans' not found.\n",
      "findfont: Font family 'Liberation Sans' not found.\n",
      "findfont: Font family 'Liberation Sans' not found.\n",
      "findfont: Font family 'Liberation Sans' not found.\n",
      "findfont: Font family 'Liberation Sans' not found.\n",
      "findfont: Font family 'Liberation Sans' not found.\n",
      "findfont: Font family 'Liberation Sans' not found.\n",
      "findfont: Font family 'Liberation Sans' not found.\n",
      "findfont: Font family 'Liberation Sans' not found.\n",
      "findfont: Font family 'Liberation Sans' not found.\n",
      "findfont: Font family 'Liberation Sans' not found.\n",
      "findfont: Font family 'Liberation Sans' not found.\n",
      "findfont: Font family 'Liberation Sans' not found.\n",
      "findfont: Font family 'Liberation Sans' not found.\n",
      "findfont: Font family 'Liberation Sans' not found.\n",
      "findfont: Font family 'Liberation Sans' not found.\n",
      "findfont: Font family 'Liberation Sans' not found.\n",
      "findfont: Font family 'Liberation Sans' not found.\n",
      "findfont: Font family 'Liberation Sans' not found.\n",
      "findfont: Font family 'Liberation Sans' not found.\n",
      "findfont: Font family 'Liberation Sans' not found.\n",
      "findfont: Font family 'Liberation Sans' not found.\n",
      "findfont: Font family 'Liberation Sans' not found.\n",
      "findfont: Font family 'Liberation Sans' not found.\n",
      "findfont: Font family 'Liberation Sans' not found.\n",
      "findfont: Font family 'Liberation Sans' not found.\n",
      "findfont: Font family 'Liberation Sans' not found.\n",
      "findfont: Font family 'Liberation Sans' not found.\n",
      "findfont: Font family 'Liberation Sans' not found.\n",
      "findfont: Font family 'Liberation Sans' not found.\n",
      "findfont: Font family 'Liberation Sans' not found.\n",
      "findfont: Font family 'Liberation Sans' not found.\n",
      "findfont: Font family 'Liberation Sans' not found.\n",
      "findfont: Font family 'Liberation Sans' not found.\n",
      "findfont: Font family 'Liberation Sans' not found.\n",
      "findfont: Font family 'Liberation Sans' not found.\n",
      "findfont: Font family 'Liberation Sans' not found.\n",
      "findfont: Font family 'Liberation Sans' not found.\n",
      "findfont: Font family 'Liberation Sans' not found.\n",
      "findfont: Font family 'Liberation Sans' not found.\n",
      "findfont: Font family 'Liberation Sans' not found.\n",
      "findfont: Font family 'Liberation Sans' not found.\n",
      "findfont: Font family 'Liberation Sans' not found.\n",
      "findfont: Font family 'Liberation Sans' not found.\n",
      "findfont: Font family 'Liberation Sans' not found.\n",
      "findfont: Font family 'Liberation Sans' not found.\n",
      "findfont: Font family 'Liberation Sans' not found.\n",
      "findfont: Font family 'Liberation Sans' not found.\n",
      "findfont: Font family 'Liberation Sans' not found.\n",
      "findfont: Font family 'Liberation Sans' not found.\n",
      "findfont: Font family 'Liberation Sans' not found.\n",
      "findfont: Font family 'Liberation Sans' not found.\n",
      "findfont: Font family 'Liberation Sans' not found.\n",
      "findfont: Font family 'Liberation Sans' not found.\n",
      "findfont: Font family 'Liberation Sans' not found.\n",
      "findfont: Font family 'Liberation Sans' not found.\n",
      "findfont: Font family 'Liberation Sans' not found.\n",
      "findfont: Font family 'Liberation Sans' not found.\n"
     ]
    },
    {
     "data": {
      "image/png": "[encoded data removed]",
      "text/plain": [
       "<Figure size 1200x600 with 1 Axes>"
      ]
     },
     "metadata": {},
     "output_type": "display_data"
    }
   ],
   "source": [
    "# cantidad de fraudes por mes\n",
    "fraud_df = df[df['is_fraud'] == 1]\n",
    "\n",
    "# Agrupar por mes para contar los fraudes por mes\n",
    "fraud_df['month'] = fraud_df['trans_date_trans_time'].dt.to_period('M')\n",
    "fraud_count_by_month = fraud_df.groupby('month').size()\n",
    "\n",
    "# Graficar los fraudes con respecto al tiempo utilizando un gráfico de barras agrupado por mes\n",
    "plt.figure(figsize=(12, 6))\n",
    "fraud_count_by_month.plot(kind='bar', color='skyblue', edgecolor='black')\n",
    "plt.xlabel('Mes')\n",
    "plt.ylabel('Cantidad de Fraudes')\n",
    "plt.title('Cantidad de Fraudes por Mes')\n",
    "plt.xticks(rotation=45)\n",
    "plt.grid(axis='y', linestyle='--', alpha=0.7)\n",
    "plt.show()"
   ]
  },
  {
   "cell_type": "code",
   "execution_count": 29,
   "metadata": {
    "colab": {
     "base_uri": "https://localhost:8080/",
     "height": 485
    },
    "id": "7hYr8znMMtsO",
    "outputId": "0a29b7da-7aef-4a5d-8deb-5458ae38550c"
   },
   "outputs": [
    {
     "name": "stderr",
     "output_type": "stream",
     "text": [
      "findfont: Font family 'Liberation Sans' not found.\n",
      "findfont: Font family 'Liberation Sans' not found.\n",
      "findfont: Font family 'Liberation Sans' not found.\n",
      "findfont: Font family 'Liberation Sans' not found.\n",
      "findfont: Font family 'Liberation Sans' not found.\n",
      "findfont: Font family 'Liberation Sans' not found.\n",
      "findfont: Font family 'Liberation Sans' not found.\n",
      "findfont: Font family 'Liberation Sans' not found.\n",
      "findfont: Font family 'Liberation Sans' not found.\n",
      "findfont: Font family 'Liberation Sans' not found.\n",
      "findfont: Font family 'Liberation Sans' not found.\n",
      "findfont: Font family 'Liberation Sans' not found.\n",
      "findfont: Font family 'Liberation Sans' not found.\n",
      "findfont: Font family 'Liberation Sans' not found.\n",
      "findfont: Font family 'Liberation Sans' not found.\n",
      "findfont: Font family 'Liberation Sans' not found.\n",
      "findfont: Font family 'Liberation Sans' not found.\n",
      "findfont: Font family 'Liberation Sans' not found.\n",
      "findfont: Font family 'Liberation Sans' not found.\n",
      "findfont: Font family 'Liberation Sans' not found.\n",
      "findfont: Font family 'Liberation Sans' not found.\n",
      "findfont: Font family 'Liberation Sans' not found.\n",
      "findfont: Font family 'Liberation Sans' not found.\n",
      "findfont: Font family 'Liberation Sans' not found.\n",
      "findfont: Font family 'Liberation Sans' not found.\n",
      "findfont: Font family 'Liberation Sans' not found.\n",
      "findfont: Font family 'Liberation Sans' not found.\n",
      "findfont: Font family 'Liberation Sans' not found.\n",
      "findfont: Font family 'Liberation Sans' not found.\n",
      "findfont: Font family 'Liberation Sans' not found.\n",
      "findfont: Font family 'Liberation Sans' not found.\n",
      "findfont: Font family 'Liberation Sans' not found.\n",
      "findfont: Font family 'Liberation Sans' not found.\n",
      "findfont: Font family 'Liberation Sans' not found.\n",
      "findfont: Font family 'Liberation Sans' not found.\n",
      "findfont: Font family 'Liberation Sans' not found.\n",
      "findfont: Font family 'Liberation Sans' not found.\n",
      "findfont: Font family 'Liberation Sans' not found.\n",
      "findfont: Font family 'Liberation Sans' not found.\n",
      "findfont: Font family 'Liberation Sans' not found.\n",
      "findfont: Font family 'Liberation Sans' not found.\n",
      "findfont: Font family 'Liberation Sans' not found.\n",
      "findfont: Font family 'Liberation Sans' not found.\n",
      "findfont: Font family 'Liberation Sans' not found.\n",
      "findfont: Font family 'Liberation Sans' not found.\n"
     ]
    },
    {
     "data": {
      "image/png": "[encoded data removed]",
      "text/plain": [
       "<Figure size 800x500 with 1 Axes>"
      ]
     },
     "metadata": {},
     "output_type": "display_data"
    }
   ],
   "source": [
    "# distribución de clases de fraude y no fraude\n",
    "fraud_class_distribution = df['is_fraud'].value_counts()\n",
    "\n",
    "# Graficar la distribución de clases de fraude y no fraude\n",
    "plt.figure(figsize=(8, 5))\n",
    "fraud_class_distribution.plot(kind='bar', color=['skyblue', 'salmon'], edgecolor='black')\n",
    "plt.xlabel('Clase (0 = No Fraude, 1 = Fraude)')\n",
    "plt.ylabel('Cantidad de Transacciones')\n",
    "plt.title('Distribución de Clases de Fraude y No Fraude')\n",
    "plt.xticks(ticks=[0, 1], labels=['No Fraude', 'Fraude'], rotation=0)\n",
    "plt.grid(axis='y', linestyle='--', alpha=0.7)\n",
    "plt.show()"
   ]
  },
  {
   "cell_type": "code",
   "execution_count": 30,
   "metadata": {
    "colab": {
     "base_uri": "https://localhost:8080/",
     "height": 562
    },
    "id": "WS5q7zOK9yal",
    "outputId": "bf5f2eff-4677-47d9-f0d1-3ad9434b016d"
   },
   "outputs": [
    {
     "name": "stderr",
     "output_type": "stream",
     "text": [
      "findfont: Font family 'Liberation Sans' not found.\n",
      "findfont: Font family 'Liberation Sans' not found.\n",
      "findfont: Font family 'Liberation Sans' not found.\n",
      "findfont: Font family 'Liberation Sans' not found.\n",
      "findfont: Font family 'Liberation Sans' not found.\n",
      "findfont: Font family 'Liberation Sans' not found.\n",
      "findfont: Font family 'Liberation Sans' not found.\n",
      "findfont: Font family 'Liberation Sans' not found.\n",
      "findfont: Font family 'Liberation Sans' not found.\n",
      "findfont: Font family 'Liberation Sans' not found.\n",
      "findfont: Font family 'Liberation Sans' not found.\n",
      "findfont: Font family 'Liberation Sans' not found.\n",
      "findfont: Font family 'Liberation Sans' not found.\n",
      "findfont: Font family 'Liberation Sans' not found.\n",
      "findfont: Font family 'Liberation Sans' not found.\n",
      "findfont: Font family 'Liberation Sans' not found.\n",
      "findfont: Font family 'Liberation Sans' not found.\n",
      "findfont: Font family 'Liberation Sans' not found.\n",
      "findfont: Font family 'Liberation Sans' not found.\n",
      "findfont: Font family 'Liberation Sans' not found.\n",
      "findfont: Font family 'Liberation Sans' not found.\n",
      "findfont: Font family 'Liberation Sans' not found.\n",
      "findfont: Font family 'Liberation Sans' not found.\n",
      "findfont: Font family 'Liberation Sans' not found.\n",
      "findfont: Font family 'Liberation Sans' not found.\n",
      "findfont: Font family 'Liberation Sans' not found.\n",
      "findfont: Font family 'Liberation Sans' not found.\n",
      "findfont: Font family 'Liberation Sans' not found.\n",
      "findfont: Font family 'Liberation Sans' not found.\n",
      "findfont: Font family 'Liberation Sans' not found.\n",
      "findfont: Font family 'Liberation Sans' not found.\n",
      "findfont: Font family 'Liberation Sans' not found.\n",
      "findfont: Font family 'Liberation Sans' not found.\n",
      "findfont: Font family 'Liberation Sans' not found.\n",
      "findfont: Font family 'Liberation Sans' not found.\n",
      "findfont: Font family 'Liberation Sans' not found.\n",
      "findfont: Font family 'Liberation Sans' not found.\n",
      "findfont: Font family 'Liberation Sans' not found.\n",
      "findfont: Font family 'Liberation Sans' not found.\n",
      "findfont: Font family 'Liberation Sans' not found.\n",
      "findfont: Font family 'Liberation Sans' not found.\n",
      "findfont: Font family 'Liberation Sans' not found.\n",
      "findfont: Font family 'Liberation Sans' not found.\n",
      "findfont: Font family 'Liberation Sans' not found.\n",
      "findfont: Font family 'Liberation Sans' not found.\n",
      "findfont: Font family 'Liberation Sans' not found.\n",
      "findfont: Font family 'Liberation Sans' not found.\n",
      "findfont: Font family 'Liberation Sans' not found.\n",
      "findfont: Font family 'Liberation Sans' not found.\n",
      "findfont: Font family 'Liberation Sans' not found.\n",
      "findfont: Font family 'Liberation Sans' not found.\n",
      "findfont: Font family 'Liberation Sans' not found.\n",
      "findfont: Font family 'Liberation Sans' not found.\n",
      "findfont: Font family 'Liberation Sans' not found.\n",
      "findfont: Font family 'Liberation Sans' not found.\n",
      "findfont: Font family 'Liberation Sans' not found.\n",
      "findfont: Font family 'Liberation Sans' not found.\n",
      "findfont: Font family 'Liberation Sans' not found.\n",
      "findfont: Font family 'Liberation Sans' not found.\n",
      "findfont: Font family 'Liberation Sans' not found.\n"
     ]
    },
    {
     "data": {
      "image/png": "[encoded data removed]",
      "text/plain": [
       "<Figure size 1000x600 with 1 Axes>"
      ]
     },
     "metadata": {},
     "output_type": "display_data"
    }
   ],
   "source": [
    "# Graficar la distribución de la variable 'amt'\n",
    "plt.figure(figsize=(10, 6))\n",
    "plt.hist(df['amt'], bins=50, color='skyblue', edgecolor='black')\n",
    "plt.xlabel('Monto de Transacción (amt)')\n",
    "plt.ylabel('Frecuencia')\n",
    "plt.title('Distribución de las Transacciones con respecto al Monto (amt)')\n",
    "plt.grid(axis='y', linestyle='--', alpha=0.7)\n",
    "plt.show()"
   ]
  },
  {
   "cell_type": "code",
   "execution_count": 31,
   "metadata": {
    "colab": {
     "base_uri": "https://localhost:8080/"
    },
    "id": "cegyGIkfH2cu",
    "outputId": "6195d38a-a4a6-4297-bbd4-6a86bbf46a7b"
   },
   "outputs": [
    {
     "data": {
      "text/plain": [
       "1296"
      ]
     },
     "execution_count": 31,
     "metadata": {},
     "output_type": "execute_result"
    }
   ],
   "source": [
    "high_value_transactions_count = df[df['amt'] > 1500].shape[0]\n",
    "high_value_transactions_count"
   ]
  },
  {
   "cell_type": "code",
   "execution_count": 32,
   "metadata": {
    "colab": {
     "base_uri": "https://localhost:8080/"
    },
    "id": "hh7nKC35IAd3",
    "outputId": "36673947-f2ec-4556-d882-6f279d966505"
   },
   "outputs": [
    {
     "data": {
      "text/plain": [
       "0"
      ]
     },
     "execution_count": 32,
     "metadata": {},
     "output_type": "execute_result"
    }
   ],
   "source": [
    "high_value_fraud_count = df[(df['amt'] > 1500) & (df['is_fraud'] == 1)].shape[0]\n",
    "high_value_fraud_count"
   ]
  },
  {
   "cell_type": "code",
   "execution_count": 33,
   "metadata": {
    "id": "wTk9ErchIyLH"
   },
   "outputs": [],
   "source": [
    "df = df[df['amt'] <= 1500]"
   ]
  },
  {
   "cell_type": "code",
   "execution_count": 34,
   "metadata": {
    "colab": {
     "base_uri": "https://localhost:8080/",
     "height": 562
    },
    "id": "9MkXdyTQI2Ie",
    "outputId": "a379a008-30b5-4810-8ae9-0bbed3c02b6a"
   },
   "outputs": [
    {
     "name": "stderr",
     "output_type": "stream",
     "text": [
      "findfont: Font family 'Liberation Sans' not found.\n",
      "findfont: Font family 'Liberation Sans' not found.\n",
      "findfont: Font family 'Liberation Sans' not found.\n",
      "findfont: Font family 'Liberation Sans' not found.\n",
      "findfont: Font family 'Liberation Sans' not found.\n",
      "findfont: Font family 'Liberation Sans' not found.\n",
      "findfont: Font family 'Liberation Sans' not found.\n",
      "findfont: Font family 'Liberation Sans' not found.\n",
      "findfont: Font family 'Liberation Sans' not found.\n",
      "findfont: Font family 'Liberation Sans' not found.\n",
      "findfont: Font family 'Liberation Sans' not found.\n",
      "findfont: Font family 'Liberation Sans' not found.\n",
      "findfont: Font family 'Liberation Sans' not found.\n",
      "findfont: Font family 'Liberation Sans' not found.\n",
      "findfont: Font family 'Liberation Sans' not found.\n",
      "findfont: Font family 'Liberation Sans' not found.\n",
      "findfont: Font family 'Liberation Sans' not found.\n",
      "findfont: Font family 'Liberation Sans' not found.\n",
      "findfont: Font family 'Liberation Sans' not found.\n",
      "findfont: Font family 'Liberation Sans' not found.\n",
      "findfont: Font family 'Liberation Sans' not found.\n",
      "findfont: Font family 'Liberation Sans' not found.\n",
      "findfont: Font family 'Liberation Sans' not found.\n",
      "findfont: Font family 'Liberation Sans' not found.\n",
      "findfont: Font family 'Liberation Sans' not found.\n",
      "findfont: Font family 'Liberation Sans' not found.\n",
      "findfont: Font family 'Liberation Sans' not found.\n",
      "findfont: Font family 'Liberation Sans' not found.\n",
      "findfont: Font family 'Liberation Sans' not found.\n",
      "findfont: Font family 'Liberation Sans' not found.\n",
      "findfont: Font family 'Liberation Sans' not found.\n",
      "findfont: Font family 'Liberation Sans' not found.\n",
      "findfont: Font family 'Liberation Sans' not found.\n",
      "findfont: Font family 'Liberation Sans' not found.\n",
      "findfont: Font family 'Liberation Sans' not found.\n",
      "findfont: Font family 'Liberation Sans' not found.\n",
      "findfont: Font family 'Liberation Sans' not found.\n",
      "findfont: Font family 'Liberation Sans' not found.\n",
      "findfont: Font family 'Liberation Sans' not found.\n",
      "findfont: Font family 'Liberation Sans' not found.\n",
      "findfont: Font family 'Liberation Sans' not found.\n",
      "findfont: Font family 'Liberation Sans' not found.\n",
      "findfont: Font family 'Liberation Sans' not found.\n",
      "findfont: Font family 'Liberation Sans' not found.\n",
      "findfont: Font family 'Liberation Sans' not found.\n",
      "findfont: Font family 'Liberation Sans' not found.\n",
      "findfont: Font family 'Liberation Sans' not found.\n",
      "findfont: Font family 'Liberation Sans' not found.\n",
      "findfont: Font family 'Liberation Sans' not found.\n",
      "findfont: Font family 'Liberation Sans' not found.\n",
      "findfont: Font family 'Liberation Sans' not found.\n",
      "findfont: Font family 'Liberation Sans' not found.\n",
      "findfont: Font family 'Liberation Sans' not found.\n",
      "findfont: Font family 'Liberation Sans' not found.\n",
      "findfont: Font family 'Liberation Sans' not found.\n"
     ]
    },
    {
     "data": {
      "image/png": "[encoded data removed]",
      "text/plain": [
       "<Figure size 1000x600 with 1 Axes>"
      ]
     },
     "metadata": {},
     "output_type": "display_data"
    }
   ],
   "source": [
    "# Graficar la distribución de la variable 'amt'\n",
    "plt.figure(figsize=(10, 6))\n",
    "plt.hist(df['amt'], bins=50, color='skyblue', edgecolor='black')\n",
    "plt.xlabel('Monto de Transacción (amt)')\n",
    "plt.ylabel('Frecuencia')\n",
    "plt.title('Distribución de las Transacciones con respecto al Monto (amt)')\n",
    "plt.grid(axis='y', linestyle='--', alpha=0.7)\n",
    "plt.show()"
   ]
  },
  {
   "cell_type": "code",
   "execution_count": 35,
   "metadata": {
    "colab": {
     "base_uri": "https://localhost:8080/",
     "height": 1000
    },
    "id": "Mj9JMxdUEVXu",
    "outputId": "26a77fbf-3ba4-4e16-b1c4-06fd8d1ddea5"
   },
   "outputs": [
    {
     "name": "stderr",
     "output_type": "stream",
     "text": [
      "findfont: Font family 'Liberation Sans' not found.\n",
      "findfont: Font family 'Liberation Sans' not found.\n",
      "findfont: Font family 'Liberation Sans' not found.\n",
      "findfont: Font family 'Liberation Sans' not found.\n",
      "findfont: Font family 'Liberation Sans' not found.\n",
      "findfont: Font family 'Liberation Sans' not found.\n",
      "findfont: Font family 'Liberation Sans' not found.\n",
      "findfont: Font family 'Liberation Sans' not found.\n",
      "findfont: Font family 'Liberation Sans' not found.\n",
      "findfont: Font family 'Liberation Sans' not found.\n",
      "findfont: Font family 'Liberation Sans' not found.\n",
      "findfont: Font family 'Liberation Sans' not found.\n",
      "findfont: Font family 'Liberation Sans' not found.\n",
      "findfont: Font family 'Liberation Sans' not found.\n",
      "findfont: Font family 'Liberation Sans' not found.\n",
      "findfont: Font family 'Liberation Sans' not found.\n",
      "findfont: Font family 'Liberation Sans' not found.\n",
      "findfont: Font family 'Liberation Sans' not found.\n",
      "findfont: Font family 'Liberation Sans' not found.\n",
      "findfont: Font family 'Liberation Sans' not found.\n",
      "findfont: Font family 'Liberation Sans' not found.\n",
      "findfont: Font family 'Liberation Sans' not found.\n",
      "findfont: Font family 'Liberation Sans' not found.\n",
      "findfont: Font family 'Liberation Sans' not found.\n",
      "findfont: Font family 'Liberation Sans' not found.\n",
      "findfont: Font family 'Liberation Sans' not found.\n",
      "findfont: Font family 'Liberation Sans' not found.\n",
      "findfont: Font family 'Liberation Sans' not found.\n",
      "findfont: Font family 'Liberation Sans' not found.\n",
      "findfont: Font family 'Liberation Sans' not found.\n",
      "findfont: Font family 'Liberation Sans' not found.\n",
      "findfont: Font family 'Liberation Sans' not found.\n",
      "findfont: Font family 'Liberation Sans' not found.\n",
      "findfont: Font family 'Liberation Sans' not found.\n",
      "findfont: Font family 'Liberation Sans' not found.\n",
      "findfont: Font family 'Liberation Sans' not found.\n",
      "findfont: Font family 'Liberation Sans' not found.\n",
      "findfont: Font family 'Liberation Sans' not found.\n",
      "findfont: Font family 'Liberation Sans' not found.\n",
      "findfont: Font family 'Liberation Sans' not found.\n",
      "findfont: Font family 'Liberation Sans' not found.\n",
      "findfont: Font family 'Liberation Sans' not found.\n",
      "findfont: Font family 'Liberation Sans' not found.\n",
      "findfont: Font family 'Liberation Sans' not found.\n",
      "findfont: Font family 'Liberation Sans' not found.\n",
      "findfont: Font family 'Liberation Sans' not found.\n",
      "findfont: Font family 'Liberation Sans' not found.\n",
      "findfont: Font family 'Liberation Sans' not found.\n",
      "findfont: Font family 'Liberation Sans' not found.\n",
      "findfont: Font family 'Liberation Sans' not found.\n",
      "findfont: Font family 'Liberation Sans' not found.\n",
      "findfont: Font family 'Liberation Sans' not found.\n",
      "findfont: Font family 'Liberation Sans' not found.\n",
      "findfont: Font family 'Liberation Sans' not found.\n",
      "findfont: Font family 'Liberation Sans' not found.\n",
      "findfont: Font family 'Liberation Sans' not found.\n",
      "findfont: Font family 'Liberation Sans' not found.\n",
      "findfont: Font family 'Liberation Sans' not found.\n",
      "findfont: Font family 'Liberation Sans' not found.\n",
      "findfont: Font family 'Liberation Sans' not found.\n",
      "findfont: Font family 'Liberation Sans' not found.\n",
      "findfont: Font family 'Liberation Sans' not found.\n",
      "findfont: Font family 'Liberation Sans' not found.\n",
      "findfont: Font family 'Liberation Sans' not found.\n",
      "findfont: Font family 'Liberation Sans' not found.\n",
      "findfont: Font family 'Liberation Sans' not found.\n",
      "findfont: Font family 'Liberation Sans' not found.\n",
      "findfont: Font family 'Liberation Sans' not found.\n",
      "findfont: Font family 'Liberation Sans' not found.\n",
      "findfont: Font family 'Liberation Sans' not found.\n",
      "findfont: Font family 'Liberation Sans' not found.\n",
      "findfont: Font family 'Liberation Sans' not found.\n",
      "findfont: Font family 'Liberation Sans' not found.\n",
      "findfont: Font family 'Liberation Sans' not found.\n",
      "findfont: Font family 'Liberation Sans' not found.\n",
      "findfont: Font family 'Liberation Sans' not found.\n",
      "findfont: Font family 'Liberation Sans' not found.\n",
      "findfont: Font family 'Liberation Sans' not found.\n"
     ]
    },
    {
     "data": {
      "image/png": "[encoded data removed]",
      "text/plain": [
       "<Figure size 1000x600 with 1 Axes>"
      ]
     },
     "metadata": {},
     "output_type": "display_data"
    },
    {
     "name": "stderr",
     "output_type": "stream",
     "text": [
      "findfont: Font family 'Liberation Sans' not found.\n",
      "findfont: Font family 'Liberation Sans' not found.\n",
      "findfont: Font family 'Liberation Sans' not found.\n",
      "findfont: Font family 'Liberation Sans' not found.\n",
      "findfont: Font family 'Liberation Sans' not found.\n",
      "findfont: Font family 'Liberation Sans' not found.\n",
      "findfont: Font family 'Liberation Sans' not found.\n",
      "findfont: Font family 'Liberation Sans' not found.\n",
      "findfont: Font family 'Liberation Sans' not found.\n",
      "findfont: Font family 'Liberation Sans' not found.\n",
      "findfont: Font family 'Liberation Sans' not found.\n",
      "findfont: Font family 'Liberation Sans' not found.\n",
      "findfont: Font family 'Liberation Sans' not found.\n",
      "findfont: Font family 'Liberation Sans' not found.\n",
      "findfont: Font family 'Liberation Sans' not found.\n",
      "findfont: Font family 'Liberation Sans' not found.\n",
      "findfont: Font family 'Liberation Sans' not found.\n",
      "findfont: Font family 'Liberation Sans' not found.\n",
      "findfont: Font family 'Liberation Sans' not found.\n",
      "findfont: Font family 'Liberation Sans' not found.\n",
      "findfont: Font family 'Liberation Sans' not found.\n",
      "findfont: Font family 'Liberation Sans' not found.\n",
      "findfont: Font family 'Liberation Sans' not found.\n",
      "findfont: Font family 'Liberation Sans' not found.\n",
      "findfont: Font family 'Liberation Sans' not found.\n",
      "findfont: Font family 'Liberation Sans' not found.\n",
      "findfont: Font family 'Liberation Sans' not found.\n",
      "findfont: Font family 'Liberation Sans' not found.\n",
      "findfont: Font family 'Liberation Sans' not found.\n",
      "findfont: Font family 'Liberation Sans' not found.\n",
      "findfont: Font family 'Liberation Sans' not found.\n",
      "findfont: Font family 'Liberation Sans' not found.\n",
      "findfont: Font family 'Liberation Sans' not found.\n",
      "findfont: Font family 'Liberation Sans' not found.\n",
      "findfont: Font family 'Liberation Sans' not found.\n",
      "findfont: Font family 'Liberation Sans' not found.\n",
      "findfont: Font family 'Liberation Sans' not found.\n",
      "findfont: Font family 'Liberation Sans' not found.\n",
      "findfont: Font family 'Liberation Sans' not found.\n",
      "findfont: Font family 'Liberation Sans' not found.\n",
      "findfont: Font family 'Liberation Sans' not found.\n",
      "findfont: Font family 'Liberation Sans' not found.\n",
      "findfont: Font family 'Liberation Sans' not found.\n",
      "findfont: Font family 'Liberation Sans' not found.\n",
      "findfont: Font family 'Liberation Sans' not found.\n"
     ]
    },
    {
     "data": {
      "image/png": "[encoded data removed]",
      "text/plain": [
       "<Figure size 1000x600 with 1 Axes>"
      ]
     },
     "metadata": {},
     "output_type": "display_data"
    },
    {
     "name": "stderr",
     "output_type": "stream",
     "text": [
      "findfont: Font family 'Liberation Sans' not found.\n",
      "findfont: Font family 'Liberation Sans' not found.\n",
      "findfont: Font family 'Liberation Sans' not found.\n",
      "findfont: Font family 'Liberation Sans' not found.\n",
      "findfont: Font family 'Liberation Sans' not found.\n",
      "findfont: Font family 'Liberation Sans' not found.\n",
      "findfont: Font family 'Liberation Sans' not found.\n",
      "findfont: Font family 'Liberation Sans' not found.\n",
      "findfont: Font family 'Liberation Sans' not found.\n",
      "findfont: Font family 'Liberation Sans' not found.\n",
      "findfont: Font family 'Liberation Sans' not found.\n",
      "findfont: Font family 'Liberation Sans' not found.\n",
      "findfont: Font family 'Liberation Sans' not found.\n",
      "findfont: Font family 'Liberation Sans' not found.\n",
      "findfont: Font family 'Liberation Sans' not found.\n",
      "findfont: Font family 'Liberation Sans' not found.\n",
      "findfont: Font family 'Liberation Sans' not found.\n",
      "findfont: Font family 'Liberation Sans' not found.\n",
      "findfont: Font family 'Liberation Sans' not found.\n",
      "findfont: Font family 'Liberation Sans' not found.\n",
      "findfont: Font family 'Liberation Sans' not found.\n",
      "findfont: Font family 'Liberation Sans' not found.\n",
      "findfont: Font family 'Liberation Sans' not found.\n",
      "findfont: Font family 'Liberation Sans' not found.\n",
      "findfont: Font family 'Liberation Sans' not found.\n",
      "findfont: Font family 'Liberation Sans' not found.\n",
      "findfont: Font family 'Liberation Sans' not found.\n",
      "findfont: Font family 'Liberation Sans' not found.\n",
      "findfont: Font family 'Liberation Sans' not found.\n",
      "findfont: Font family 'Liberation Sans' not found.\n",
      "findfont: Font family 'Liberation Sans' not found.\n",
      "findfont: Font family 'Liberation Sans' not found.\n",
      "findfont: Font family 'Liberation Sans' not found.\n",
      "findfont: Font family 'Liberation Sans' not found.\n",
      "findfont: Font family 'Liberation Sans' not found.\n",
      "findfont: Font family 'Liberation Sans' not found.\n",
      "findfont: Font family 'Liberation Sans' not found.\n",
      "findfont: Font family 'Liberation Sans' not found.\n",
      "findfont: Font family 'Liberation Sans' not found.\n",
      "findfont: Font family 'Liberation Sans' not found.\n",
      "findfont: Font family 'Liberation Sans' not found.\n",
      "findfont: Font family 'Liberation Sans' not found.\n",
      "findfont: Font family 'Liberation Sans' not found.\n",
      "findfont: Font family 'Liberation Sans' not found.\n",
      "findfont: Font family 'Liberation Sans' not found.\n",
      "findfont: Font family 'Liberation Sans' not found.\n",
      "findfont: Font family 'Liberation Sans' not found.\n",
      "findfont: Font family 'Liberation Sans' not found.\n",
      "findfont: Font family 'Liberation Sans' not found.\n",
      "findfont: Font family 'Liberation Sans' not found.\n",
      "findfont: Font family 'Liberation Sans' not found.\n",
      "findfont: Font family 'Liberation Sans' not found.\n",
      "findfont: Font family 'Liberation Sans' not found.\n",
      "findfont: Font family 'Liberation Sans' not found.\n",
      "findfont: Font family 'Liberation Sans' not found.\n",
      "findfont: Font family 'Liberation Sans' not found.\n",
      "findfont: Font family 'Liberation Sans' not found.\n",
      "findfont: Font family 'Liberation Sans' not found.\n",
      "findfont: Font family 'Liberation Sans' not found.\n",
      "findfont: Font family 'Liberation Sans' not found.\n",
      "findfont: Font family 'Liberation Sans' not found.\n",
      "findfont: Font family 'Liberation Sans' not found.\n",
      "findfont: Font family 'Liberation Sans' not found.\n",
      "findfont: Font family 'Liberation Sans' not found.\n",
      "findfont: Font family 'Liberation Sans' not found.\n",
      "findfont: Font family 'Liberation Sans' not found.\n",
      "findfont: Font family 'Liberation Sans' not found.\n",
      "findfont: Font family 'Liberation Sans' not found.\n",
      "findfont: Font family 'Liberation Sans' not found.\n",
      "findfont: Font family 'Liberation Sans' not found.\n",
      "findfont: Font family 'Liberation Sans' not found.\n",
      "findfont: Font family 'Liberation Sans' not found.\n",
      "findfont: Font family 'Liberation Sans' not found.\n",
      "findfont: Font family 'Liberation Sans' not found.\n",
      "findfont: Font family 'Liberation Sans' not found.\n",
      "findfont: Font family 'Liberation Sans' not found.\n",
      "findfont: Font family 'Liberation Sans' not found.\n",
      "findfont: Font family 'Liberation Sans' not found.\n",
      "findfont: Font family 'Liberation Sans' not found.\n",
      "findfont: Font family 'Liberation Sans' not found.\n",
      "findfont: Font family 'Liberation Sans' not found.\n",
      "findfont: Font family 'Liberation Sans' not found.\n",
      "findfont: Font family 'Liberation Sans' not found.\n",
      "findfont: Font family 'Liberation Sans' not found.\n",
      "findfont: Font family 'Liberation Sans' not found.\n",
      "findfont: Font family 'Liberation Sans' not found.\n",
      "findfont: Font family 'Liberation Sans' not found.\n",
      "findfont: Font family 'Liberation Sans' not found.\n",
      "findfont: Font family 'Liberation Sans' not found.\n",
      "findfont: Font family 'Liberation Sans' not found.\n",
      "findfont: Font family 'Liberation Sans' not found.\n",
      "findfont: Font family 'Liberation Sans' not found.\n",
      "findfont: Font family 'Liberation Sans' not found.\n",
      "findfont: Font family 'Liberation Sans' not found.\n",
      "findfont: Font family 'Liberation Sans' not found.\n",
      "findfont: Font family 'Liberation Sans' not found.\n",
      "findfont: Font family 'Liberation Sans' not found.\n",
      "findfont: Font family 'Liberation Sans' not found.\n",
      "findfont: Font family 'Liberation Sans' not found.\n",
      "findfont: Font family 'Liberation Sans' not found.\n",
      "findfont: Font family 'Liberation Sans' not found.\n",
      "findfont: Font family 'Liberation Sans' not found.\n",
      "findfont: Font family 'Liberation Sans' not found.\n",
      "findfont: Font family 'Liberation Sans' not found.\n",
      "findfont: Font family 'Liberation Sans' not found.\n",
      "findfont: Font family 'Liberation Sans' not found.\n",
      "findfont: Font family 'Liberation Sans' not found.\n",
      "findfont: Font family 'Liberation Sans' not found.\n",
      "findfont: Font family 'Liberation Sans' not found.\n",
      "findfont: Font family 'Liberation Sans' not found.\n",
      "findfont: Font family 'Liberation Sans' not found.\n",
      "findfont: Font family 'Liberation Sans' not found.\n",
      "findfont: Font family 'Liberation Sans' not found.\n",
      "findfont: Font family 'Liberation Sans' not found.\n",
      "findfont: Font family 'Liberation Sans' not found.\n",
      "findfont: Font family 'Liberation Sans' not found.\n",
      "findfont: Font family 'Liberation Sans' not found.\n",
      "findfont: Font family 'Liberation Sans' not found.\n",
      "findfont: Font family 'Liberation Sans' not found.\n",
      "findfont: Font family 'Liberation Sans' not found.\n",
      "findfont: Font family 'Liberation Sans' not found.\n",
      "findfont: Font family 'Liberation Sans' not found.\n",
      "findfont: Font family 'Liberation Sans' not found.\n",
      "findfont: Font family 'Liberation Sans' not found.\n",
      "findfont: Font family 'Liberation Sans' not found.\n",
      "findfont: Font family 'Liberation Sans' not found.\n",
      "findfont: Font family 'Liberation Sans' not found.\n",
      "findfont: Font family 'Liberation Sans' not found.\n",
      "findfont: Font family 'Liberation Sans' not found.\n",
      "findfont: Font family 'Liberation Sans' not found.\n",
      "findfont: Font family 'Liberation Sans' not found.\n",
      "findfont: Font family 'Liberation Sans' not found.\n",
      "findfont: Font family 'Liberation Sans' not found.\n",
      "findfont: Font family 'Liberation Sans' not found.\n",
      "findfont: Font family 'Liberation Sans' not found.\n",
      "findfont: Font family 'Liberation Sans' not found.\n",
      "findfont: Font family 'Liberation Sans' not found.\n",
      "findfont: Font family 'Liberation Sans' not found.\n",
      "findfont: Font family 'Liberation Sans' not found.\n",
      "findfont: Font family 'Liberation Sans' not found.\n",
      "findfont: Font family 'Liberation Sans' not found.\n",
      "findfont: Font family 'Liberation Sans' not found.\n",
      "findfont: Font family 'Liberation Sans' not found.\n",
      "findfont: Font family 'Liberation Sans' not found.\n",
      "findfont: Font family 'Liberation Sans' not found.\n",
      "findfont: Font family 'Liberation Sans' not found.\n",
      "findfont: Font family 'Liberation Sans' not found.\n",
      "findfont: Font family 'Liberation Sans' not found.\n",
      "findfont: Font family 'Liberation Sans' not found.\n",
      "findfont: Font family 'Liberation Sans' not found.\n",
      "findfont: Font family 'Liberation Sans' not found.\n",
      "findfont: Font family 'Liberation Sans' not found.\n",
      "findfont: Font family 'Liberation Sans' not found.\n",
      "findfont: Font family 'Liberation Sans' not found.\n",
      "findfont: Font family 'Liberation Sans' not found.\n",
      "findfont: Font family 'Liberation Sans' not found.\n",
      "findfont: Font family 'Liberation Sans' not found.\n",
      "findfont: Font family 'Liberation Sans' not found.\n",
      "findfont: Font family 'Liberation Sans' not found.\n",
      "findfont: Font family 'Liberation Sans' not found.\n",
      "findfont: Font family 'Liberation Sans' not found.\n",
      "findfont: Font family 'Liberation Sans' not found.\n",
      "findfont: Font family 'Liberation Sans' not found.\n",
      "findfont: Font family 'Liberation Sans' not found.\n",
      "findfont: Font family 'Liberation Sans' not found.\n",
      "findfont: Font family 'Liberation Sans' not found.\n",
      "findfont: Font family 'Liberation Sans' not found.\n",
      "findfont: Font family 'Liberation Sans' not found.\n",
      "findfont: Font family 'Liberation Sans' not found.\n",
      "findfont: Font family 'Liberation Sans' not found.\n",
      "findfont: Font family 'Liberation Sans' not found.\n",
      "findfont: Font family 'Liberation Sans' not found.\n",
      "findfont: Font family 'Liberation Sans' not found.\n",
      "findfont: Font family 'Liberation Sans' not found.\n",
      "findfont: Font family 'Liberation Sans' not found.\n",
      "findfont: Font family 'Liberation Sans' not found.\n",
      "findfont: Font family 'Liberation Sans' not found.\n",
      "findfont: Font family 'Liberation Sans' not found.\n",
      "findfont: Font family 'Liberation Sans' not found.\n",
      "findfont: Font family 'Liberation Sans' not found.\n",
      "findfont: Font family 'Liberation Sans' not found.\n",
      "findfont: Font family 'Liberation Sans' not found.\n",
      "findfont: Font family 'Liberation Sans' not found.\n"
     ]
    },
    {
     "data": {
      "image/png": "[encoded data removed]",
      "text/plain": [
       "<Figure size 1000x600 with 1 Axes>"
      ]
     },
     "metadata": {},
     "output_type": "display_data"
    }
   ],
   "source": [
    "# grafico el resto de variables\n",
    "# Lista de variables a graficar\n",
    "variables = [ 'category', 'gender', 'state']\n",
    "\n",
    "# Graficar la frecuencia de transacciones para cada variable\n",
    "for var in variables:\n",
    "    plt.figure(figsize=(10, 6))\n",
    "    df[var].value_counts().plot(kind='bar', color='skyblue', edgecolor='black')\n",
    "    plt.xlabel(var.capitalize())\n",
    "    plt.ylabel('Frecuencia de Transacciones')\n",
    "    plt.title(f'Frecuencia de Transacciones con respecto a la variable {var.capitalize()}')\n",
    "    plt.xticks(rotation=45)\n",
    "    plt.grid(axis='y', linestyle='--', alpha=0.7)\n",
    "    plt.show()"
   ]
  },
  {
   "cell_type": "code",
   "execution_count": 36,
   "metadata": {
    "id": "bKxr-whIt5nv"
   },
   "outputs": [],
   "source": [
    "#creamos una columna de edad, utilizando el variable de fecha de nacimiento\n",
    "df['age'] = df['trans_date_trans_time'].dt.year - df['dob'].dt.year\n",
    "\n",
    "# Ajustar la edad si la persona aún no cumplió años ese año\n",
    "df['age'] -= ((df['trans_date_trans_time'].dt.month < df['dob'].dt.month) |\n",
    "              ((df['trans_date_trans_time'].dt.month == df['dob'].dt.month) &\n",
    "               (df['trans_date_trans_time'].dt.day < df['dob'].dt.day)))\n",
    "\n",
    "# Eliminar la columna 'dob'\n",
    "df = df.drop(columns=['dob'])"
   ]
  },
  {
   "cell_type": "code",
   "execution_count": 37,
   "metadata": {
    "colab": {
     "base_uri": "https://localhost:8080/",
     "height": 562
    },
    "id": "zYyWvgPXuxCQ",
    "outputId": "6535064f-78d0-4266-8c04-75c8b8b78bf1"
   },
   "outputs": [
    {
     "name": "stderr",
     "output_type": "stream",
     "text": [
      "findfont: Font family 'Liberation Sans' not found.\n",
      "findfont: Font family 'Liberation Sans' not found.\n",
      "findfont: Font family 'Liberation Sans' not found.\n",
      "findfont: Font family 'Liberation Sans' not found.\n",
      "findfont: Font family 'Liberation Sans' not found.\n",
      "findfont: Font family 'Liberation Sans' not found.\n",
      "findfont: Font family 'Liberation Sans' not found.\n",
      "findfont: Font family 'Liberation Sans' not found.\n",
      "findfont: Font family 'Liberation Sans' not found.\n",
      "findfont: Font family 'Liberation Sans' not found.\n",
      "findfont: Font family 'Liberation Sans' not found.\n",
      "findfont: Font family 'Liberation Sans' not found.\n",
      "findfont: Font family 'Liberation Sans' not found.\n",
      "findfont: Font family 'Liberation Sans' not found.\n",
      "findfont: Font family 'Liberation Sans' not found.\n",
      "findfont: Font family 'Liberation Sans' not found.\n",
      "findfont: Font family 'Liberation Sans' not found.\n",
      "findfont: Font family 'Liberation Sans' not found.\n",
      "findfont: Font family 'Liberation Sans' not found.\n",
      "findfont: Font family 'Liberation Sans' not found.\n",
      "findfont: Font family 'Liberation Sans' not found.\n",
      "findfont: Font family 'Liberation Sans' not found.\n",
      "findfont: Font family 'Liberation Sans' not found.\n",
      "findfont: Font family 'Liberation Sans' not found.\n",
      "findfont: Font family 'Liberation Sans' not found.\n",
      "findfont: Font family 'Liberation Sans' not found.\n",
      "findfont: Font family 'Liberation Sans' not found.\n",
      "findfont: Font family 'Liberation Sans' not found.\n",
      "findfont: Font family 'Liberation Sans' not found.\n",
      "findfont: Font family 'Liberation Sans' not found.\n",
      "findfont: Font family 'Liberation Sans' not found.\n",
      "findfont: Font family 'Liberation Sans' not found.\n",
      "findfont: Font family 'Liberation Sans' not found.\n",
      "findfont: Font family 'Liberation Sans' not found.\n",
      "findfont: Font family 'Liberation Sans' not found.\n",
      "findfont: Font family 'Liberation Sans' not found.\n",
      "findfont: Font family 'Liberation Sans' not found.\n",
      "findfont: Font family 'Liberation Sans' not found.\n",
      "findfont: Font family 'Liberation Sans' not found.\n",
      "findfont: Font family 'Liberation Sans' not found.\n",
      "findfont: Font family 'Liberation Sans' not found.\n",
      "findfont: Font family 'Liberation Sans' not found.\n",
      "findfont: Font family 'Liberation Sans' not found.\n",
      "findfont: Font family 'Liberation Sans' not found.\n",
      "findfont: Font family 'Liberation Sans' not found.\n",
      "findfont: Font family 'Liberation Sans' not found.\n",
      "findfont: Font family 'Liberation Sans' not found.\n",
      "findfont: Font family 'Liberation Sans' not found.\n",
      "findfont: Font family 'Liberation Sans' not found.\n",
      "findfont: Font family 'Liberation Sans' not found.\n",
      "findfont: Font family 'Liberation Sans' not found.\n"
     ]
    },
    {
     "data": {
      "image/png": "[encoded data removed]",
      "text/plain": [
       "<Figure size 1000x600 with 1 Axes>"
      ]
     },
     "metadata": {},
     "output_type": "display_data"
    }
   ],
   "source": [
    "# Graficar la distribución de la variable 'age'\n",
    "plt.figure(figsize=(10, 6))\n",
    "plt.hist(df['age'], bins=50, color='skyblue', edgecolor='black')\n",
    "plt.xlabel('Edad (años)')\n",
    "plt.ylabel('Frecuencia')\n",
    "plt.title('Distribución de las Transacciones con respecto a la edad')\n",
    "plt.grid(axis='y', linestyle='--', alpha=0.7)\n",
    "plt.show()"
   ]
  },
  {
   "cell_type": "code",
   "execution_count": 38,
   "metadata": {
    "colab": {
     "base_uri": "https://localhost:8080/"
    },
    "id": "WBoZvaNFJdX-",
    "outputId": "2022e60b-45c2-4595-8465-15139797fec6"
   },
   "outputs": [
    {
     "data": {
      "text/plain": [
       "(7506, 1287873)"
      ]
     },
     "execution_count": 38,
     "metadata": {},
     "output_type": "execute_result"
    }
   ],
   "source": [
    "fraudulent_count = df[df['is_fraud'] == 1].shape[0]\n",
    "non_fraudulent_count = df[df['is_fraud'] == 0].shape[0]\n",
    "\n",
    "fraudulent_count, non_fraudulent_count"
   ]
  },
  {
   "cell_type": "code",
   "execution_count": 39,
   "metadata": {
    "colab": {
     "base_uri": "https://localhost:8080/"
    },
    "id": "ya_qINskLHCV",
    "outputId": "96279a86-59cb-4b35-91c2-b31628c56575"
   },
   "outputs": [
    {
     "data": {
      "text/plain": [
       "(1295379, 14)"
      ]
     },
     "execution_count": 39,
     "metadata": {},
     "output_type": "execute_result"
    }
   ],
   "source": [
    "df.shape"
   ]
  },
  {
   "cell_type": "code",
   "execution_count": 40,
   "metadata": {
    "colab": {
     "base_uri": "https://localhost:8080/"
    },
    "id": "fCgTgMdYx_PZ",
    "outputId": "6f546f07-0175-4fa7-d453-4613b6d63c8a"
   },
   "outputs": [
    {
     "name": "stdout",
     "output_type": "stream",
     "text": [
      "trans_date_trans_time, tipo: datetime64[ns]\n",
      "merchant, tipo: object\n",
      "category, tipo: object\n",
      "amt, tipo: float64\n",
      "gender, tipo: object\n",
      "state, tipo: object\n",
      "lat, tipo: float64\n",
      "long, tipo: float64\n",
      "city_pop, tipo: int64\n",
      "job, tipo: object\n",
      "merch_lat, tipo: float64\n",
      "merch_long, tipo: float64\n",
      "is_fraud, tipo: int64\n",
      "age, tipo: int32\n"
     ]
    }
   ],
   "source": [
    "for column in df.columns:\n",
    "    print(f\"{column}, tipo: {df[column].dtype}\")"
   ]
  },
  {
   "cell_type": "markdown",
   "metadata": {
    "id": "sJhv2FhwqiPd"
   },
   "source": [
    "# Modelos supervisados"
   ]
  },
  {
   "cell_type": "markdown",
   "metadata": {
    "id": "ruk-pKxhqmQA"
   },
   "source": [
    "# Importe del test"
   ]
  },
  {
   "cell_type": "code",
   "execution_count": 41,
   "metadata": {
    "id": "GqAQWihhqtQh"
   },
   "outputs": [],
   "source": [
    "csv_file_path_test = os.path.join(path, 'fraudTest.csv')\n",
    "# cargar el dataset en un DataFrame\n",
    "df_test = pd.read_csv(csv_file_path_test, index_col=0)"
   ]
  },
  {
   "cell_type": "code",
   "execution_count": 42,
   "metadata": {
    "id": "zMqxU2Ebwyvs"
   },
   "outputs": [],
   "source": [
    "# cambiar \"dob\" a edad:\n",
    "df_test['trans_date_trans_time'] = pd.to_datetime(df_test['trans_date_trans_time'])\n",
    "df_test['dob'] = pd.to_datetime(df_test['dob'])\n",
    "#creamos una columna de edad, utilizando el variable de fecha de nacimiento\n",
    "df_test['age'] = df_test['trans_date_trans_time'].dt.year - df_test['dob'].dt.year\n",
    "\n",
    "# Ajustar la edad si la persona aún no cumplió años ese año\n",
    "df_test['age'] -= ((df_test['trans_date_trans_time'].dt.month < df_test['dob'].dt.month) |\n",
    "              ((df_test['trans_date_trans_time'].dt.month == df_test['dob'].dt.month) &\n",
    "               (df_test['trans_date_trans_time'].dt.day < df_test['dob'].dt.day)))\n",
    "\n",
    "# Eliminar la columna 'dob' y el resto de columnas que no usaremos\n",
    "df_test = df_test.drop(columns=['dob','cc_num', 'first', 'last', 'street', 'city', 'zip', 'trans_num', 'unix_time'])"
   ]
  },
  {
   "cell_type": "code",
   "execution_count": 43,
   "metadata": {
    "id": "V76li5LhxNhv"
   },
   "outputs": [],
   "source": [
    "fraudTrain = df.drop(columns=['trans_date_trans_time'])\n",
    "fraudTest = df_test.drop(columns=['trans_date_trans_time'])"
   ]
  },
  {
   "cell_type": "code",
   "execution_count": 44,
   "metadata": {
    "colab": {
     "base_uri": "https://localhost:8080/"
    },
    "id": "TdNUAbY4rpik",
    "outputId": "10e482ec-aaab-492c-ff4e-fb72e90ea332"
   },
   "outputs": [
    {
     "data": {
      "text/plain": [
       "(1295379, 13)"
      ]
     },
     "execution_count": 44,
     "metadata": {},
     "output_type": "execute_result"
    }
   ],
   "source": [
    "fraudTrain.shape"
   ]
  },
  {
   "cell_type": "code",
   "execution_count": 45,
   "metadata": {
    "colab": {
     "base_uri": "https://localhost:8080/"
    },
    "id": "UVD7LcRtrkrk",
    "outputId": "5cb07335-9ee1-4d79-aa13-62265ef562ef"
   },
   "outputs": [
    {
     "data": {
      "text/plain": [
       "(555719, 13)"
      ]
     },
     "execution_count": 45,
     "metadata": {},
     "output_type": "execute_result"
    }
   ],
   "source": [
    "fraudTest.shape"
   ]
  },
  {
   "cell_type": "code",
   "execution_count": 46,
   "metadata": {
    "colab": {
     "base_uri": "https://localhost:8080/",
     "height": 802
    },
    "id": "eSRV6OKhr4fZ",
    "outputId": "267a8457-e35e-4461-f99e-b83fec3d3770"
   },
   "outputs": [
    {
     "data": {
      "text/html": [
       "<style type=\"text/css\">\n",
       "#T_3ef7b_row9_col1, #T_3ef7b_row15_col1 {\n",
       "  background-color: lightgreen;\n",
       "}\n",
       "</style>\n",
       "<table id=\"T_3ef7b\">\n",
       "  <thead>\n",
       "    <tr>\n",
       "      <th class=\"blank level0\" >&nbsp;</th>\n",
       "      <th id=\"T_3ef7b_level0_col0\" class=\"col_heading level0 col0\" >Description</th>\n",
       "      <th id=\"T_3ef7b_level0_col1\" class=\"col_heading level0 col1\" >Value</th>\n",
       "    </tr>\n",
       "  </thead>\n",
       "  <tbody>\n",
       "    <tr>\n",
       "      <th id=\"T_3ef7b_level0_row0\" class=\"row_heading level0 row0\" >0</th>\n",
       "      <td id=\"T_3ef7b_row0_col0\" class=\"data row0 col0\" >Session id</td>\n",
       "      <td id=\"T_3ef7b_row0_col1\" class=\"data row0 col1\" >123</td>\n",
       "    </tr>\n",
       "    <tr>\n",
       "      <th id=\"T_3ef7b_level0_row1\" class=\"row_heading level0 row1\" >1</th>\n",
       "      <td id=\"T_3ef7b_row1_col0\" class=\"data row1 col0\" >Target</td>\n",
       "      <td id=\"T_3ef7b_row1_col1\" class=\"data row1 col1\" >is_fraud</td>\n",
       "    </tr>\n",
       "    <tr>\n",
       "      <th id=\"T_3ef7b_level0_row2\" class=\"row_heading level0 row2\" >2</th>\n",
       "      <td id=\"T_3ef7b_row2_col0\" class=\"data row2 col0\" >Target type</td>\n",
       "      <td id=\"T_3ef7b_row2_col1\" class=\"data row2 col1\" >Binary</td>\n",
       "    </tr>\n",
       "    <tr>\n",
       "      <th id=\"T_3ef7b_level0_row3\" class=\"row_heading level0 row3\" >3</th>\n",
       "      <td id=\"T_3ef7b_row3_col0\" class=\"data row3 col0\" >Original data shape</td>\n",
       "      <td id=\"T_3ef7b_row3_col1\" class=\"data row3 col1\" >(1295379, 13)</td>\n",
       "    </tr>\n",
       "    <tr>\n",
       "      <th id=\"T_3ef7b_level0_row4\" class=\"row_heading level0 row4\" >4</th>\n",
       "      <td id=\"T_3ef7b_row4_col0\" class=\"data row4 col0\" >Transformed data shape</td>\n",
       "      <td id=\"T_3ef7b_row4_col1\" class=\"data row4 col1\" >(2191636, 26)</td>\n",
       "    </tr>\n",
       "    <tr>\n",
       "      <th id=\"T_3ef7b_level0_row5\" class=\"row_heading level0 row5\" >5</th>\n",
       "      <td id=\"T_3ef7b_row5_col0\" class=\"data row5 col0\" >Transformed train set shape</td>\n",
       "      <td id=\"T_3ef7b_row5_col1\" class=\"data row5 col1\" >(1803022, 26)</td>\n",
       "    </tr>\n",
       "    <tr>\n",
       "      <th id=\"T_3ef7b_level0_row6\" class=\"row_heading level0 row6\" >6</th>\n",
       "      <td id=\"T_3ef7b_row6_col0\" class=\"data row6 col0\" >Transformed test set shape</td>\n",
       "      <td id=\"T_3ef7b_row6_col1\" class=\"data row6 col1\" >(388614, 26)</td>\n",
       "    </tr>\n",
       "    <tr>\n",
       "      <th id=\"T_3ef7b_level0_row7\" class=\"row_heading level0 row7\" >7</th>\n",
       "      <td id=\"T_3ef7b_row7_col0\" class=\"data row7 col0\" >Numeric features</td>\n",
       "      <td id=\"T_3ef7b_row7_col1\" class=\"data row7 col1\" >7</td>\n",
       "    </tr>\n",
       "    <tr>\n",
       "      <th id=\"T_3ef7b_level0_row8\" class=\"row_heading level0 row8\" >8</th>\n",
       "      <td id=\"T_3ef7b_row8_col0\" class=\"data row8 col0\" >Categorical features</td>\n",
       "      <td id=\"T_3ef7b_row8_col1\" class=\"data row8 col1\" >5</td>\n",
       "    </tr>\n",
       "    <tr>\n",
       "      <th id=\"T_3ef7b_level0_row9\" class=\"row_heading level0 row9\" >9</th>\n",
       "      <td id=\"T_3ef7b_row9_col0\" class=\"data row9 col0\" >Preprocess</td>\n",
       "      <td id=\"T_3ef7b_row9_col1\" class=\"data row9 col1\" >True</td>\n",
       "    </tr>\n",
       "    <tr>\n",
       "      <th id=\"T_3ef7b_level0_row10\" class=\"row_heading level0 row10\" >10</th>\n",
       "      <td id=\"T_3ef7b_row10_col0\" class=\"data row10 col0\" >Imputation type</td>\n",
       "      <td id=\"T_3ef7b_row10_col1\" class=\"data row10 col1\" >simple</td>\n",
       "    </tr>\n",
       "    <tr>\n",
       "      <th id=\"T_3ef7b_level0_row11\" class=\"row_heading level0 row11\" >11</th>\n",
       "      <td id=\"T_3ef7b_row11_col0\" class=\"data row11 col0\" >Numeric imputation</td>\n",
       "      <td id=\"T_3ef7b_row11_col1\" class=\"data row11 col1\" >mean</td>\n",
       "    </tr>\n",
       "    <tr>\n",
       "      <th id=\"T_3ef7b_level0_row12\" class=\"row_heading level0 row12\" >12</th>\n",
       "      <td id=\"T_3ef7b_row12_col0\" class=\"data row12 col0\" >Categorical imputation</td>\n",
       "      <td id=\"T_3ef7b_row12_col1\" class=\"data row12 col1\" >mode</td>\n",
       "    </tr>\n",
       "    <tr>\n",
       "      <th id=\"T_3ef7b_level0_row13\" class=\"row_heading level0 row13\" >13</th>\n",
       "      <td id=\"T_3ef7b_row13_col0\" class=\"data row13 col0\" >Maximum one-hot encoding</td>\n",
       "      <td id=\"T_3ef7b_row13_col1\" class=\"data row13 col1\" >25</td>\n",
       "    </tr>\n",
       "    <tr>\n",
       "      <th id=\"T_3ef7b_level0_row14\" class=\"row_heading level0 row14\" >14</th>\n",
       "      <td id=\"T_3ef7b_row14_col0\" class=\"data row14 col0\" >Encoding method</td>\n",
       "      <td id=\"T_3ef7b_row14_col1\" class=\"data row14 col1\" >None</td>\n",
       "    </tr>\n",
       "    <tr>\n",
       "      <th id=\"T_3ef7b_level0_row15\" class=\"row_heading level0 row15\" >15</th>\n",
       "      <td id=\"T_3ef7b_row15_col0\" class=\"data row15 col0\" >Fix imbalance</td>\n",
       "      <td id=\"T_3ef7b_row15_col1\" class=\"data row15 col1\" >True</td>\n",
       "    </tr>\n",
       "    <tr>\n",
       "      <th id=\"T_3ef7b_level0_row16\" class=\"row_heading level0 row16\" >16</th>\n",
       "      <td id=\"T_3ef7b_row16_col0\" class=\"data row16 col0\" >Fix imbalance method</td>\n",
       "      <td id=\"T_3ef7b_row16_col1\" class=\"data row16 col1\" >SMOTE</td>\n",
       "    </tr>\n",
       "    <tr>\n",
       "      <th id=\"T_3ef7b_level0_row17\" class=\"row_heading level0 row17\" >17</th>\n",
       "      <td id=\"T_3ef7b_row17_col0\" class=\"data row17 col0\" >Fold Generator</td>\n",
       "      <td id=\"T_3ef7b_row17_col1\" class=\"data row17 col1\" >StratifiedKFold</td>\n",
       "    </tr>\n",
       "    <tr>\n",
       "      <th id=\"T_3ef7b_level0_row18\" class=\"row_heading level0 row18\" >18</th>\n",
       "      <td id=\"T_3ef7b_row18_col0\" class=\"data row18 col0\" >Fold Number</td>\n",
       "      <td id=\"T_3ef7b_row18_col1\" class=\"data row18 col1\" >10</td>\n",
       "    </tr>\n",
       "    <tr>\n",
       "      <th id=\"T_3ef7b_level0_row19\" class=\"row_heading level0 row19\" >19</th>\n",
       "      <td id=\"T_3ef7b_row19_col0\" class=\"data row19 col0\" >CPU Jobs</td>\n",
       "      <td id=\"T_3ef7b_row19_col1\" class=\"data row19 col1\" >-1</td>\n",
       "    </tr>\n",
       "    <tr>\n",
       "      <th id=\"T_3ef7b_level0_row20\" class=\"row_heading level0 row20\" >20</th>\n",
       "      <td id=\"T_3ef7b_row20_col0\" class=\"data row20 col0\" >Use GPU</td>\n",
       "      <td id=\"T_3ef7b_row20_col1\" class=\"data row20 col1\" >False</td>\n",
       "    </tr>\n",
       "    <tr>\n",
       "      <th id=\"T_3ef7b_level0_row21\" class=\"row_heading level0 row21\" >21</th>\n",
       "      <td id=\"T_3ef7b_row21_col0\" class=\"data row21 col0\" >Log Experiment</td>\n",
       "      <td id=\"T_3ef7b_row21_col1\" class=\"data row21 col1\" >False</td>\n",
       "    </tr>\n",
       "    <tr>\n",
       "      <th id=\"T_3ef7b_level0_row22\" class=\"row_heading level0 row22\" >22</th>\n",
       "      <td id=\"T_3ef7b_row22_col0\" class=\"data row22 col0\" >Experiment Name</td>\n",
       "      <td id=\"T_3ef7b_row22_col1\" class=\"data row22 col1\" >clf-default-name</td>\n",
       "    </tr>\n",
       "    <tr>\n",
       "      <th id=\"T_3ef7b_level0_row23\" class=\"row_heading level0 row23\" >23</th>\n",
       "      <td id=\"T_3ef7b_row23_col0\" class=\"data row23 col0\" >USI</td>\n",
       "      <td id=\"T_3ef7b_row23_col1\" class=\"data row23 col1\" >9545</td>\n",
       "    </tr>\n",
       "  </tbody>\n",
       "</table>\n"
      ],
      "text/plain": [
       "<pandas.io.formats.style.Styler at 0x7f655e08e550>"
      ]
     },
     "metadata": {},
     "output_type": "display_data"
    }
   ],
   "source": [
    "clf = setup(\n",
    "    data=fraudTrain,\n",
    "    target='is_fraud',\n",
    "    session_id=123,\n",
    "    numeric_features=['amt', 'city_pop', 'merch_lat', 'merch_long','lat','long','age'],\n",
    "    categorical_features=['category', 'gender', 'state', 'job', 'merchant'],\n",
    "    fix_imbalance=True  #Balance de clases\n",
    ")"
   ]
  },
  {
   "cell_type": "code",
   "execution_count": null,
   "metadata": {
    "id": "2wgCIxnLzu-M"
   },
   "outputs": [
    {
     "ename": "",
     "evalue": "",
     "output_type": "error",
     "traceback": [
      "\u001b[1;31mThe Kernel crashed while executing code in the current cell or a previous cell. \n",
      "\u001b[1;31mPlease review the code in the cell(s) to identify a possible cause of the failure. \n",
      "\u001b[1;31mClick <a href='https://aka.ms/vscodeJupyterKernelCrash'>here</a> for more info. \n",
      "\u001b[1;31mView Jupyter <a href='command:jupyter.viewOutput'>log</a> for further details."
     ]
    }
   ],
   "source": [
    "models_to_include = [\n",
    "    'dt', 'et', 'ada', 'gbc',\n",
    "    'xgboost', 'lightgbm'\n",
    "]"
   ]
  },
  {
   "cell_type": "code",
   "execution_count": null,
   "metadata": {
    "colab": {
     "base_uri": "https://localhost:8080/",
     "height": 518,
     "referenced_widgets": [
      "5b03edbbceeb4a629d6dbe2196bd09a5",
      "c1cac8d714e34458a3aa108484984089",
      "da479aeb2b694a028898aa90ec62d26c",
      "aa2c4678cef64ca7abc394b10167c880",
      "c27c79ac49c84d05860f1a9c1403e447",
      "650c3747d0ca407e91acf10f5f6e8b2d",
      "e96fc397484f4b8fa94106fe1d110165",
      "2313c1237c7d457caadee740e502e39f",
      "dca9610c4c374f1ab83b3ced99fa2c47",
      "17f3efcb79db4b3c9bb8d15494412efd",
      "9d6ef0857c0d43488755712196387f49"
     ]
    },
    "id": "_ApE-eOlz1JJ",
    "outputId": "ea6b8ad3-05b5-4257-d91e-cb51b43020bb"
   },
   "outputs": [
    {
     "data": {
      "text/html": [
       "<div>\n",
       "<style scoped>\n",
       "    .dataframe tbody tr th:only-of-type {\n",
       "        vertical-align: middle;\n",
       "    }\n",
       "\n",
       "    .dataframe tbody tr th {\n",
       "        vertical-align: top;\n",
       "    }\n",
       "\n",
       "    .dataframe thead th {\n",
       "        text-align: right;\n",
       "    }\n",
       "</style>\n",
       "<table border=\"1\" class=\"dataframe\">\n",
       "  <thead>\n",
       "    <tr style=\"text-align: right;\">\n",
       "      <th></th>\n",
       "      <th></th>\n",
       "      <th></th>\n",
       "    </tr>\n",
       "    <tr>\n",
       "      <th></th>\n",
       "      <th></th>\n",
       "      <th></th>\n",
       "    </tr>\n",
       "  </thead>\n",
       "  <tbody>\n",
       "    <tr>\n",
       "      <th>Initiated</th>\n",
       "      <td>. . . . . . . . . . . . . . . . . .</td>\n",
       "      <td>23:40:11</td>\n",
       "    </tr>\n",
       "    <tr>\n",
       "      <th>Status</th>\n",
       "      <td>. . . . . . . . . . . . . . . . . .</td>\n",
       "      <td>Fitting 5 Folds</td>\n",
       "    </tr>\n",
       "    <tr>\n",
       "      <th>Estimator</th>\n",
       "      <td>. . . . . . . . . . . . . . . . . .</td>\n",
       "      <td>Decision Tree Classifier</td>\n",
       "    </tr>\n",
       "  </tbody>\n",
       "</table>\n",
       "</div>"
      ],
      "text/plain": [
       "                                                                        \n",
       "                                                                        \n",
       "Initiated  . . . . . . . . . . . . . . . . . .                  23:40:11\n",
       "Status     . . . . . . . . . . . . . . . . . .           Fitting 5 Folds\n",
       "Estimator  . . . . . . . . . . . . . . . . . .  Decision Tree Classifier"
      ]
     },
     "metadata": {},
     "output_type": "display_data"
    },
    {
     "data": {
      "text/html": [
       "<div>\n",
       "<style scoped>\n",
       "    .dataframe tbody tr th:only-of-type {\n",
       "        vertical-align: middle;\n",
       "    }\n",
       "\n",
       "    .dataframe tbody tr th {\n",
       "        vertical-align: top;\n",
       "    }\n",
       "\n",
       "    .dataframe thead th {\n",
       "        text-align: right;\n",
       "    }\n",
       "</style>\n",
       "<table border=\"1\" class=\"dataframe\">\n",
       "  <thead>\n",
       "    <tr style=\"text-align: right;\">\n",
       "      <th></th>\n",
       "      <th>Model</th>\n",
       "      <th>Accuracy</th>\n",
       "      <th>AUC</th>\n",
       "      <th>Recall</th>\n",
       "      <th>Prec.</th>\n",
       "      <th>F1</th>\n",
       "      <th>Kappa</th>\n",
       "      <th>MCC</th>\n",
       "      <th>TT (Sec)</th>\n",
       "    </tr>\n",
       "  </thead>\n",
       "  <tbody>\n",
       "  </tbody>\n",
       "</table>\n",
       "</div>"
      ],
      "text/plain": [
       "Empty DataFrame\n",
       "Columns: [Model, Accuracy, AUC, Recall, Prec., F1, Kappa, MCC, TT (Sec)]\n",
       "Index: []"
      ]
     },
     "metadata": {},
     "output_type": "display_data"
    },
    {
     "data": {
      "application/vnd.jupyter.widget-view+json": {
       "model_id": "25326e6ae5444bef9f4453a4618caf00",
       "version_major": 2,
       "version_minor": 0
      },
      "text/plain": [
       "Processing:   0%|          | 0/31 [00:00<?, ?it/s]"
      ]
     },
     "metadata": {},
     "output_type": "display_data"
    }
   ],
   "source": [
    "\n",
    "best_models = compare_models(\n",
    "    include=models_to_include,\n",
    "    fold=5,\n",
    "    round=2,\n",
    "    sort='Recall',\n",
    "    n_select=3\n",
    ")"
   ]
  },
  {
   "cell_type": "code",
   "execution_count": null,
   "metadata": {
    "colab": {
     "base_uri": "https://localhost:8080/",
     "height": 466,
     "referenced_widgets": [
      "2797ba627c144ce7844660845b326c1b",
      "55b98c0ece02490e9b96f61f1cc6f2a7",
      "c636d364b0e84a1e8a2bcaa895086bc7",
      "4654c782803c40fc98f872cd5073d816",
      "f72e1d172e294056a34c2039505dcfc9",
      "35ed386d3af94c16ad02cd821b071616",
      "af0a9ea8b548499f856f68ab3a903026",
      "72db45e5d7e1423a82e49bbbd26315bc",
      "ef95162d80b944ecaedb4381980a0297",
      "dc42053e28f940d896693320e25397d4",
      "2d4851fd3f5c406e9bab4aef5ec04863"
     ]
    },
    "id": "LOYJjta2z2t7",
    "outputId": "7ae60048-ec21-49ce-d4ff-0ce0960659bc"
   },
   "outputs": [
    {
     "data": {
      "application/vnd.google.colaboratory.intrinsic+json": {
       "summary": "{\n  \"name\": \"tuned_model = tune_model(best_models[0], optimize='Recall')\",\n  \"rows\": 3,\n  \"fields\": [\n    {\n      \"column\": \" \",\n      \"properties\": {\n        \"dtype\": \"category\",\n        \"num_unique_values\": 1,\n        \"samples\": [\n          \". . . . . . . . . . . . . . . . . .\"\n        ],\n        \"semantic_type\": \"\",\n        \"description\": \"\"\n      }\n    },\n    {\n      \"column\": \"  \",\n      \"properties\": {\n        \"dtype\": \"string\",\n        \"num_unique_values\": 3,\n        \"samples\": [\n          \"22:32:48\"\n        ],\n        \"semantic_type\": \"\",\n        \"description\": \"\"\n      }\n    }\n  ]\n}",
       "type": "dataframe"
      },
      "text/html": [
       "\n",
       "  <div id=\"df-b6edeb09-fdae-4be2-99f4-ffd94fe9bbb1\" class=\"colab-df-container\">\n",
       "    <div>\n",
       "<style scoped>\n",
       "    .dataframe tbody tr th:only-of-type {\n",
       "        vertical-align: middle;\n",
       "    }\n",
       "\n",
       "    .dataframe tbody tr th {\n",
       "        vertical-align: top;\n",
       "    }\n",
       "\n",
       "    .dataframe thead th {\n",
       "        text-align: right;\n",
       "    }\n",
       "</style>\n",
       "<table border=\"1\" class=\"dataframe\">\n",
       "  <thead>\n",
       "    <tr style=\"text-align: right;\">\n",
       "      <th></th>\n",
       "      <th></th>\n",
       "      <th></th>\n",
       "    </tr>\n",
       "    <tr>\n",
       "      <th></th>\n",
       "      <th></th>\n",
       "      <th></th>\n",
       "    </tr>\n",
       "  </thead>\n",
       "  <tbody>\n",
       "    <tr>\n",
       "      <th>Initiated</th>\n",
       "      <td>. . . . . . . . . . . . . . . . . .</td>\n",
       "      <td>22:32:48</td>\n",
       "    </tr>\n",
       "    <tr>\n",
       "      <th>Status</th>\n",
       "      <td>. . . . . . . . . . . . . . . . . .</td>\n",
       "      <td>Searching Hyperparameters</td>\n",
       "    </tr>\n",
       "    <tr>\n",
       "      <th>Estimator</th>\n",
       "      <td>. . . . . . . . . . . . . . . . . .</td>\n",
       "      <td>Light Gradient Boosting Machine</td>\n",
       "    </tr>\n",
       "  </tbody>\n",
       "</table>\n",
       "</div>\n",
       "    <div class=\"colab-df-buttons\">\n",
       "\n",
       "  <div class=\"colab-df-container\">\n",
       "    <button class=\"colab-df-convert\" onclick=\"convertToInteractive('df-b6edeb09-fdae-4be2-99f4-ffd94fe9bbb1')\"\n",
       "            title=\"Convert this dataframe to an interactive table.\"\n",
       "            style=\"display:none;\">\n",
       "\n",
       "  <svg xmlns=\"http://www.w3.org/2000/svg\" height=\"24px\" viewBox=\"0 -960 960 960\">\n",
       "    <path d=\"M120-120v-720h720v720H120Zm60-500h600v-160H180v160Zm220 220h160v-160H400v160Zm0 220h160v-160H400v160ZM180-400h160v-160H180v160Zm440 0h160v-160H620v160ZM180-180h160v-160H180v160Zm440 0h160v-160H620v160Z\"/>\n",
       "  </svg>\n",
       "    </button>\n",
       "\n",
       "  <style>\n",
       "    .colab-df-container {\n",
       "      display:flex;\n",
       "      gap: 12px;\n",
       "    }\n",
       "\n",
       "    .colab-df-convert {\n",
       "      background-color: #E8F0FE;\n",
       "      border: none;\n",
       "      border-radius: 50%;\n",
       "      cursor: pointer;\n",
       "      display: none;\n",
       "      fill: #1967D2;\n",
       "      height: 32px;\n",
       "      padding: 0 0 0 0;\n",
       "      width: 32px;\n",
       "    }\n",
       "\n",
       "    .colab-df-convert:hover {\n",
       "      background-color: #E2EBFA;\n",
       "      box-shadow: 0px 1px 2px rgba(60, 64, 67, 0.3), 0px 1px 3px 1px rgba(60, 64, 67, 0.15);\n",
       "      fill: #174EA6;\n",
       "    }\n",
       "\n",
       "    .colab-df-buttons div {\n",
       "      margin-bottom: 4px;\n",
       "    }\n",
       "\n",
       "    [theme=dark] .colab-df-convert {\n",
       "      background-color: #3B4455;\n",
       "      fill: #D2E3FC;\n",
       "    }\n",
       "\n",
       "    [theme=dark] .colab-df-convert:hover {\n",
       "      background-color: #434B5C;\n",
       "      box-shadow: 0px 1px 3px 1px rgba(0, 0, 0, 0.15);\n",
       "      filter: drop-shadow(0px 1px 2px rgba(0, 0, 0, 0.3));\n",
       "      fill: #FFFFFF;\n",
       "    }\n",
       "  </style>\n",
       "\n",
       "    <script>\n",
       "      const buttonEl =\n",
       "        document.querySelector('#df-b6edeb09-fdae-4be2-99f4-ffd94fe9bbb1 button.colab-df-convert');\n",
       "      buttonEl.style.display =\n",
       "        google.colab.kernel.accessAllowed ? 'block' : 'none';\n",
       "\n",
       "      async function convertToInteractive(key) {\n",
       "        const element = document.querySelector('#df-b6edeb09-fdae-4be2-99f4-ffd94fe9bbb1');\n",
       "        const dataTable =\n",
       "          await google.colab.kernel.invokeFunction('convertToInteractive',\n",
       "                                                    [key], {});\n",
       "        if (!dataTable) return;\n",
       "\n",
       "        const docLinkHtml = 'Like what you see? Visit the ' +\n",
       "          '<a target=\"_blank\" href=https://colab.research.google.com/notebooks/data_table.ipynb>data table notebook</a>'\n",
       "          + ' to learn more about interactive tables.';\n",
       "        element.innerHTML = '';\n",
       "        dataTable['output_type'] = 'display_data';\n",
       "        await google.colab.output.renderOutput(dataTable, element);\n",
       "        const docLink = document.createElement('div');\n",
       "        docLink.innerHTML = docLinkHtml;\n",
       "        element.appendChild(docLink);\n",
       "      }\n",
       "    </script>\n",
       "  </div>\n",
       "\n",
       "\n",
       "<div id=\"df-9c8c78be-8ef4-42a2-9d45-3865d1f5680c\">\n",
       "  <button class=\"colab-df-quickchart\" onclick=\"quickchart('df-9c8c78be-8ef4-42a2-9d45-3865d1f5680c')\"\n",
       "            title=\"Suggest charts\"\n",
       "            style=\"display:none;\">\n",
       "\n",
       "<svg xmlns=\"http://www.w3.org/2000/svg\" height=\"24px\"viewBox=\"0 0 24 24\"\n",
       "     width=\"24px\">\n",
       "    <g>\n",
       "        <path d=\"M19 3H5c-1.1 0-2 .9-2 2v14c0 1.1.9 2 2 2h14c1.1 0 2-.9 2-2V5c0-1.1-.9-2-2-2zM9 17H7v-7h2v7zm4 0h-2V7h2v10zm4 0h-2v-4h2v4z\"/>\n",
       "    </g>\n",
       "</svg>\n",
       "  </button>\n",
       "\n",
       "<style>\n",
       "  .colab-df-quickchart {\n",
       "      --bg-color: #E8F0FE;\n",
       "      --fill-color: #1967D2;\n",
       "      --hover-bg-color: #E2EBFA;\n",
       "      --hover-fill-color: #174EA6;\n",
       "      --disabled-fill-color: #AAA;\n",
       "      --disabled-bg-color: #DDD;\n",
       "  }\n",
       "\n",
       "  [theme=dark] .colab-df-quickchart {\n",
       "      --bg-color: #3B4455;\n",
       "      --fill-color: #D2E3FC;\n",
       "      --hover-bg-color: #434B5C;\n",
       "      --hover-fill-color: #FFFFFF;\n",
       "      --disabled-bg-color: #3B4455;\n",
       "      --disabled-fill-color: #666;\n",
       "  }\n",
       "\n",
       "  .colab-df-quickchart {\n",
       "    background-color: var(--bg-color);\n",
       "    border: none;\n",
       "    border-radius: 50%;\n",
       "    cursor: pointer;\n",
       "    display: none;\n",
       "    fill: var(--fill-color);\n",
       "    height: 32px;\n",
       "    padding: 0;\n",
       "    width: 32px;\n",
       "  }\n",
       "\n",
       "  .colab-df-quickchart:hover {\n",
       "    background-color: var(--hover-bg-color);\n",
       "    box-shadow: 0 1px 2px rgba(60, 64, 67, 0.3), 0 1px 3px 1px rgba(60, 64, 67, 0.15);\n",
       "    fill: var(--button-hover-fill-color);\n",
       "  }\n",
       "\n",
       "  .colab-df-quickchart-complete:disabled,\n",
       "  .colab-df-quickchart-complete:disabled:hover {\n",
       "    background-color: var(--disabled-bg-color);\n",
       "    fill: var(--disabled-fill-color);\n",
       "    box-shadow: none;\n",
       "  }\n",
       "\n",
       "  .colab-df-spinner {\n",
       "    border: 2px solid var(--fill-color);\n",
       "    border-color: transparent;\n",
       "    border-bottom-color: var(--fill-color);\n",
       "    animation:\n",
       "      spin 1s steps(1) infinite;\n",
       "  }\n",
       "\n",
       "  @keyframes spin {\n",
       "    0% {\n",
       "      border-color: transparent;\n",
       "      border-bottom-color: var(--fill-color);\n",
       "      border-left-color: var(--fill-color);\n",
       "    }\n",
       "    20% {\n",
       "      border-color: transparent;\n",
       "      border-left-color: var(--fill-color);\n",
       "      border-top-color: var(--fill-color);\n",
       "    }\n",
       "    30% {\n",
       "      border-color: transparent;\n",
       "      border-left-color: var(--fill-color);\n",
       "      border-top-color: var(--fill-color);\n",
       "      border-right-color: var(--fill-color);\n",
       "    }\n",
       "    40% {\n",
       "      border-color: transparent;\n",
       "      border-right-color: var(--fill-color);\n",
       "      border-top-color: var(--fill-color);\n",
       "    }\n",
       "    60% {\n",
       "      border-color: transparent;\n",
       "      border-right-color: var(--fill-color);\n",
       "    }\n",
       "    80% {\n",
       "      border-color: transparent;\n",
       "      border-right-color: var(--fill-color);\n",
       "      border-bottom-color: var(--fill-color);\n",
       "    }\n",
       "    90% {\n",
       "      border-color: transparent;\n",
       "      border-bottom-color: var(--fill-color);\n",
       "    }\n",
       "  }\n",
       "</style>\n",
       "\n",
       "  <script>\n",
       "    async function quickchart(key) {\n",
       "      const quickchartButtonEl =\n",
       "        document.querySelector('#' + key + ' button');\n",
       "      quickchartButtonEl.disabled = true;  // To prevent multiple clicks.\n",
       "      quickchartButtonEl.classList.add('colab-df-spinner');\n",
       "      try {\n",
       "        const charts = await google.colab.kernel.invokeFunction(\n",
       "            'suggestCharts', [key], {});\n",
       "      } catch (error) {\n",
       "        console.error('Error during call to suggestCharts:', error);\n",
       "      }\n",
       "      quickchartButtonEl.classList.remove('colab-df-spinner');\n",
       "      quickchartButtonEl.classList.add('colab-df-quickchart-complete');\n",
       "    }\n",
       "    (() => {\n",
       "      let quickchartButtonEl =\n",
       "        document.querySelector('#df-9c8c78be-8ef4-42a2-9d45-3865d1f5680c button');\n",
       "      quickchartButtonEl.style.display =\n",
       "        google.colab.kernel.accessAllowed ? 'block' : 'none';\n",
       "    })();\n",
       "  </script>\n",
       "</div>\n",
       "\n",
       "    </div>\n",
       "  </div>\n"
      ],
      "text/plain": [
       "                                                \\\n",
       "                                                 \n",
       "Initiated  . . . . . . . . . . . . . . . . . .   \n",
       "Status     . . . . . . . . . . . . . . . . . .   \n",
       "Estimator  . . . . . . . . . . . . . . . . . .   \n",
       "\n",
       "                                            \n",
       "                                            \n",
       "Initiated                         22:32:48  \n",
       "Status           Searching Hyperparameters  \n",
       "Estimator  Light Gradient Boosting Machine  "
      ]
     },
     "metadata": {},
     "output_type": "display_data"
    },
    {
     "data": {
      "text/html": [],
      "text/plain": [
       "<IPython.core.display.HTML object>"
      ]
     },
     "metadata": {},
     "output_type": "display_data"
    },
    {
     "data": {
      "application/vnd.jupyter.widget-view+json": {
       "model_id": "2797ba627c144ce7844660845b326c1b",
       "version_major": 2,
       "version_minor": 0
      },
      "text/plain": [
       "Processing:   0%|          | 0/7 [00:00<?, ?it/s]"
      ]
     },
     "metadata": {
      "application/vnd.jupyter.widget-view+json": {
       "colab": {
        "custom_widget_manager": {
         "url": "https://ssl.gstatic.com/colaboratory-static/widgets/colab-cdn-widget-manager/2b70e893a8ba7c0f/manager.min.js"
        }
       }
      }
     },
     "output_type": "display_data"
    },
    {
     "name": "stdout",
     "output_type": "stream",
     "text": [
      "Fitting 10 folds for each of 10 candidates, totalling 100 fits\n"
     ]
    },
    {
     "ename": "KeyboardInterrupt",
     "evalue": "",
     "output_type": "error",
     "traceback": [
      "\u001b[0;31m---------------------------------------------------------------------------\u001b[0m",
      "\u001b[0;31mKeyboardInterrupt\u001b[0m                         Traceback (most recent call last)",
      "\u001b[0;32m<ipython-input-44-5b8a653abc6f>\u001b[0m in \u001b[0;36m<cell line: 1>\u001b[0;34m()\u001b[0m\n\u001b[0;32m----> 1\u001b[0;31m \u001b[0mtuned_model\u001b[0m \u001b[0;34m=\u001b[0m \u001b[0mtune_model\u001b[0m\u001b[0;34m(\u001b[0m\u001b[0mbest_models\u001b[0m\u001b[0;34m[\u001b[0m\u001b[0;36m0\u001b[0m\u001b[0;34m]\u001b[0m\u001b[0;34m,\u001b[0m \u001b[0moptimize\u001b[0m\u001b[0;34m=\u001b[0m\u001b[0;34m'Recall'\u001b[0m\u001b[0;34m)\u001b[0m\u001b[0;34m\u001b[0m\u001b[0;34m\u001b[0m\u001b[0m\n\u001b[0m",
      "\u001b[0;32m/usr/local/lib/python3.10/dist-packages/pycaret/utils/generic.py\u001b[0m in \u001b[0;36mwrapper\u001b[0;34m(*args, **kwargs)\u001b[0m\n\u001b[1;32m    962\u001b[0m                 \u001b[0;32mif\u001b[0m \u001b[0mglobals_d\u001b[0m\u001b[0;34m[\u001b[0m\u001b[0mname\u001b[0m\u001b[0;34m]\u001b[0m \u001b[0;32mis\u001b[0m \u001b[0;32mNone\u001b[0m\u001b[0;34m:\u001b[0m\u001b[0;34m\u001b[0m\u001b[0;34m\u001b[0m\u001b[0m\n\u001b[1;32m    963\u001b[0m                     \u001b[0;32mraise\u001b[0m \u001b[0mValueError\u001b[0m\u001b[0;34m(\u001b[0m\u001b[0mmessage\u001b[0m\u001b[0;34m)\u001b[0m\u001b[0;34m\u001b[0m\u001b[0;34m\u001b[0m\u001b[0m\n\u001b[0;32m--> 964\u001b[0;31m             \u001b[0;32mreturn\u001b[0m \u001b[0mfunc\u001b[0m\u001b[0;34m(\u001b[0m\u001b[0;34m*\u001b[0m\u001b[0margs\u001b[0m\u001b[0;34m,\u001b[0m \u001b[0;34m**\u001b[0m\u001b[0mkwargs\u001b[0m\u001b[0;34m)\u001b[0m\u001b[0;34m\u001b[0m\u001b[0;34m\u001b[0m\u001b[0m\n\u001b[0m\u001b[1;32m    965\u001b[0m \u001b[0;34m\u001b[0m\u001b[0m\n\u001b[1;32m    966\u001b[0m         \u001b[0;32mreturn\u001b[0m \u001b[0mwrapper\u001b[0m\u001b[0;34m\u001b[0m\u001b[0;34m\u001b[0m\u001b[0m\n",
      "\u001b[0;32m/usr/local/lib/python3.10/dist-packages/pycaret/classification/functional.py\u001b[0m in \u001b[0;36mtune_model\u001b[0;34m(estimator, fold, round, n_iter, custom_grid, optimize, custom_scorer, search_library, search_algorithm, early_stopping, early_stopping_max_iters, choose_better, fit_kwargs, groups, return_tuner, verbose, tuner_verbose, return_train_score, **kwargs)\u001b[0m\n\u001b[1;32m   1206\u001b[0m     \"\"\"\n\u001b[1;32m   1207\u001b[0m \u001b[0;34m\u001b[0m\u001b[0m\n\u001b[0;32m-> 1208\u001b[0;31m     return _CURRENT_EXPERIMENT.tune_model(\n\u001b[0m\u001b[1;32m   1209\u001b[0m         \u001b[0mestimator\u001b[0m\u001b[0;34m=\u001b[0m\u001b[0mestimator\u001b[0m\u001b[0;34m,\u001b[0m\u001b[0;34m\u001b[0m\u001b[0;34m\u001b[0m\u001b[0m\n\u001b[1;32m   1210\u001b[0m         \u001b[0mfold\u001b[0m\u001b[0;34m=\u001b[0m\u001b[0mfold\u001b[0m\u001b[0;34m,\u001b[0m\u001b[0;34m\u001b[0m\u001b[0;34m\u001b[0m\u001b[0m\n",
      "\u001b[0;32m/usr/local/lib/python3.10/dist-packages/pycaret/classification/oop.py\u001b[0m in \u001b[0;36mtune_model\u001b[0;34m(self, estimator, fold, round, n_iter, custom_grid, optimize, custom_scorer, search_library, search_algorithm, early_stopping, early_stopping_max_iters, choose_better, fit_kwargs, groups, return_tuner, verbose, tuner_verbose, return_train_score, **kwargs)\u001b[0m\n\u001b[1;32m   1556\u001b[0m         \"\"\"\n\u001b[1;32m   1557\u001b[0m \u001b[0;34m\u001b[0m\u001b[0m\n\u001b[0;32m-> 1558\u001b[0;31m         return super().tune_model(\n\u001b[0m\u001b[1;32m   1559\u001b[0m             \u001b[0mestimator\u001b[0m\u001b[0;34m=\u001b[0m\u001b[0mestimator\u001b[0m\u001b[0;34m,\u001b[0m\u001b[0;34m\u001b[0m\u001b[0;34m\u001b[0m\u001b[0m\n\u001b[1;32m   1560\u001b[0m             \u001b[0mfold\u001b[0m\u001b[0;34m=\u001b[0m\u001b[0mfold\u001b[0m\u001b[0;34m,\u001b[0m\u001b[0;34m\u001b[0m\u001b[0;34m\u001b[0m\u001b[0m\n",
      "\u001b[0;32m/usr/local/lib/python3.10/dist-packages/pycaret/internal/pycaret_experiment/supervised_experiment.py\u001b[0m in \u001b[0;36mtune_model\u001b[0;34m(self, estimator, fold, round, n_iter, custom_grid, optimize, custom_scorer, search_library, search_algorithm, early_stopping, early_stopping_max_iters, choose_better, fit_kwargs, groups, return_tuner, verbose, tuner_verbose, return_train_score, **kwargs)\u001b[0m\n\u001b[1;32m   2678\u001b[0m                         \u001b[0mpycaret\u001b[0m\u001b[0;34m.\u001b[0m\u001b[0minternal\u001b[0m\u001b[0;34m.\u001b[0m\u001b[0mpatches\u001b[0m\u001b[0;34m.\u001b[0m\u001b[0msklearn\u001b[0m\u001b[0;34m.\u001b[0m\u001b[0m_mp_ParameterGrid_getitem\u001b[0m\u001b[0;34m,\u001b[0m\u001b[0;34m\u001b[0m\u001b[0;34m\u001b[0m\u001b[0m\n\u001b[1;32m   2679\u001b[0m                     ):\n\u001b[0;32m-> 2680\u001b[0;31m                         \u001b[0mmodel_grid\u001b[0m\u001b[0;34m.\u001b[0m\u001b[0mfit\u001b[0m\u001b[0;34m(\u001b[0m\u001b[0mdata_X\u001b[0m\u001b[0;34m,\u001b[0m \u001b[0mdata_y\u001b[0m\u001b[0;34m,\u001b[0m \u001b[0mgroups\u001b[0m\u001b[0;34m=\u001b[0m\u001b[0mgroups\u001b[0m\u001b[0;34m,\u001b[0m \u001b[0;34m**\u001b[0m\u001b[0mfit_kwargs\u001b[0m\u001b[0;34m)\u001b[0m\u001b[0;34m\u001b[0m\u001b[0;34m\u001b[0m\u001b[0m\n\u001b[0m\u001b[1;32m   2681\u001b[0m             \u001b[0;32melse\u001b[0m\u001b[0;34m:\u001b[0m\u001b[0;34m\u001b[0m\u001b[0;34m\u001b[0m\u001b[0m\n\u001b[1;32m   2682\u001b[0m                 \u001b[0mmodel_grid\u001b[0m\u001b[0;34m.\u001b[0m\u001b[0mfit\u001b[0m\u001b[0;34m(\u001b[0m\u001b[0mdata_X\u001b[0m\u001b[0;34m,\u001b[0m \u001b[0mdata_y\u001b[0m\u001b[0;34m,\u001b[0m \u001b[0mgroups\u001b[0m\u001b[0;34m=\u001b[0m\u001b[0mgroups\u001b[0m\u001b[0;34m,\u001b[0m \u001b[0;34m**\u001b[0m\u001b[0mfit_kwargs\u001b[0m\u001b[0;34m)\u001b[0m\u001b[0;34m\u001b[0m\u001b[0;34m\u001b[0m\u001b[0m\n",
      "\u001b[0;32m/usr/local/lib/python3.10/dist-packages/sklearn/base.py\u001b[0m in \u001b[0;36mwrapper\u001b[0;34m(estimator, *args, **kwargs)\u001b[0m\n\u001b[1;32m   1472\u001b[0m                 )\n\u001b[1;32m   1473\u001b[0m             ):\n\u001b[0;32m-> 1474\u001b[0;31m                 \u001b[0;32mreturn\u001b[0m \u001b[0mfit_method\u001b[0m\u001b[0;34m(\u001b[0m\u001b[0mestimator\u001b[0m\u001b[0;34m,\u001b[0m \u001b[0;34m*\u001b[0m\u001b[0margs\u001b[0m\u001b[0;34m,\u001b[0m \u001b[0;34m**\u001b[0m\u001b[0mkwargs\u001b[0m\u001b[0;34m)\u001b[0m\u001b[0;34m\u001b[0m\u001b[0;34m\u001b[0m\u001b[0m\n\u001b[0m\u001b[1;32m   1475\u001b[0m \u001b[0;34m\u001b[0m\u001b[0m\n\u001b[1;32m   1476\u001b[0m         \u001b[0;32mreturn\u001b[0m \u001b[0mwrapper\u001b[0m\u001b[0;34m\u001b[0m\u001b[0;34m\u001b[0m\u001b[0m\n",
      "\u001b[0;32m/usr/local/lib/python3.10/dist-packages/sklearn/model_selection/_search.py\u001b[0m in \u001b[0;36mfit\u001b[0;34m(self, X, y, **params)\u001b[0m\n\u001b[1;32m    968\u001b[0m                 \u001b[0;32mreturn\u001b[0m \u001b[0mresults\u001b[0m\u001b[0;34m\u001b[0m\u001b[0;34m\u001b[0m\u001b[0m\n\u001b[1;32m    969\u001b[0m \u001b[0;34m\u001b[0m\u001b[0m\n\u001b[0;32m--> 970\u001b[0;31m             \u001b[0mself\u001b[0m\u001b[0;34m.\u001b[0m\u001b[0m_run_search\u001b[0m\u001b[0;34m(\u001b[0m\u001b[0mevaluate_candidates\u001b[0m\u001b[0;34m)\u001b[0m\u001b[0;34m\u001b[0m\u001b[0;34m\u001b[0m\u001b[0m\n\u001b[0m\u001b[1;32m    971\u001b[0m \u001b[0;34m\u001b[0m\u001b[0m\n\u001b[1;32m    972\u001b[0m             \u001b[0;31m# multimetric is determined here because in the case of a callable\u001b[0m\u001b[0;34m\u001b[0m\u001b[0;34m\u001b[0m\u001b[0m\n",
      "\u001b[0;32m/usr/local/lib/python3.10/dist-packages/sklearn/model_selection/_search.py\u001b[0m in \u001b[0;36m_run_search\u001b[0;34m(self, evaluate_candidates)\u001b[0m\n\u001b[1;32m   1912\u001b[0m     \u001b[0;32mdef\u001b[0m \u001b[0m_run_search\u001b[0m\u001b[0;34m(\u001b[0m\u001b[0mself\u001b[0m\u001b[0;34m,\u001b[0m \u001b[0mevaluate_candidates\u001b[0m\u001b[0;34m)\u001b[0m\u001b[0;34m:\u001b[0m\u001b[0;34m\u001b[0m\u001b[0;34m\u001b[0m\u001b[0m\n\u001b[1;32m   1913\u001b[0m         \u001b[0;34m\"\"\"Search n_iter candidates from param_distributions\"\"\"\u001b[0m\u001b[0;34m\u001b[0m\u001b[0;34m\u001b[0m\u001b[0m\n\u001b[0;32m-> 1914\u001b[0;31m         evaluate_candidates(\n\u001b[0m\u001b[1;32m   1915\u001b[0m             ParameterSampler(\n\u001b[1;32m   1916\u001b[0m                 \u001b[0mself\u001b[0m\u001b[0;34m.\u001b[0m\u001b[0mparam_distributions\u001b[0m\u001b[0;34m,\u001b[0m \u001b[0mself\u001b[0m\u001b[0;34m.\u001b[0m\u001b[0mn_iter\u001b[0m\u001b[0;34m,\u001b[0m \u001b[0mrandom_state\u001b[0m\u001b[0;34m=\u001b[0m\u001b[0mself\u001b[0m\u001b[0;34m.\u001b[0m\u001b[0mrandom_state\u001b[0m\u001b[0;34m\u001b[0m\u001b[0;34m\u001b[0m\u001b[0m\n",
      "\u001b[0;32m/usr/local/lib/python3.10/dist-packages/sklearn/model_selection/_search.py\u001b[0m in \u001b[0;36mevaluate_candidates\u001b[0;34m(candidate_params, cv, more_results)\u001b[0m\n\u001b[1;32m    914\u001b[0m                     )\n\u001b[1;32m    915\u001b[0m \u001b[0;34m\u001b[0m\u001b[0m\n\u001b[0;32m--> 916\u001b[0;31m                 out = parallel(\n\u001b[0m\u001b[1;32m    917\u001b[0m                     delayed(_fit_and_score)(\n\u001b[1;32m    918\u001b[0m                         \u001b[0mclone\u001b[0m\u001b[0;34m(\u001b[0m\u001b[0mbase_estimator\u001b[0m\u001b[0;34m)\u001b[0m\u001b[0;34m,\u001b[0m\u001b[0;34m\u001b[0m\u001b[0;34m\u001b[0m\u001b[0m\n",
      "\u001b[0;32m/usr/local/lib/python3.10/dist-packages/sklearn/utils/parallel.py\u001b[0m in \u001b[0;36m__call__\u001b[0;34m(self, iterable)\u001b[0m\n\u001b[1;32m     65\u001b[0m             \u001b[0;32mfor\u001b[0m \u001b[0mdelayed_func\u001b[0m\u001b[0;34m,\u001b[0m \u001b[0margs\u001b[0m\u001b[0;34m,\u001b[0m \u001b[0mkwargs\u001b[0m \u001b[0;32min\u001b[0m \u001b[0miterable\u001b[0m\u001b[0;34m\u001b[0m\u001b[0;34m\u001b[0m\u001b[0m\n\u001b[1;32m     66\u001b[0m         )\n\u001b[0;32m---> 67\u001b[0;31m         \u001b[0;32mreturn\u001b[0m \u001b[0msuper\u001b[0m\u001b[0;34m(\u001b[0m\u001b[0;34m)\u001b[0m\u001b[0;34m.\u001b[0m\u001b[0m__call__\u001b[0m\u001b[0;34m(\u001b[0m\u001b[0miterable_with_config\u001b[0m\u001b[0;34m)\u001b[0m\u001b[0;34m\u001b[0m\u001b[0;34m\u001b[0m\u001b[0m\n\u001b[0m\u001b[1;32m     68\u001b[0m \u001b[0;34m\u001b[0m\u001b[0m\n\u001b[1;32m     69\u001b[0m \u001b[0;34m\u001b[0m\u001b[0m\n",
      "\u001b[0;32m/usr/local/lib/python3.10/dist-packages/joblib/parallel.py\u001b[0m in \u001b[0;36m__call__\u001b[0;34m(self, iterable)\u001b[0m\n\u001b[1;32m   1950\u001b[0m         \u001b[0mnext\u001b[0m\u001b[0;34m(\u001b[0m\u001b[0moutput\u001b[0m\u001b[0;34m)\u001b[0m\u001b[0;34m\u001b[0m\u001b[0;34m\u001b[0m\u001b[0m\n\u001b[1;32m   1951\u001b[0m \u001b[0;34m\u001b[0m\u001b[0m\n\u001b[0;32m-> 1952\u001b[0;31m         \u001b[0;32mreturn\u001b[0m \u001b[0moutput\u001b[0m \u001b[0;32mif\u001b[0m \u001b[0mself\u001b[0m\u001b[0;34m.\u001b[0m\u001b[0mreturn_generator\u001b[0m \u001b[0;32melse\u001b[0m \u001b[0mlist\u001b[0m\u001b[0;34m(\u001b[0m\u001b[0moutput\u001b[0m\u001b[0;34m)\u001b[0m\u001b[0;34m\u001b[0m\u001b[0;34m\u001b[0m\u001b[0m\n\u001b[0m\u001b[1;32m   1953\u001b[0m \u001b[0;34m\u001b[0m\u001b[0m\n\u001b[1;32m   1954\u001b[0m     \u001b[0;32mdef\u001b[0m \u001b[0m__repr__\u001b[0m\u001b[0;34m(\u001b[0m\u001b[0mself\u001b[0m\u001b[0;34m)\u001b[0m\u001b[0;34m:\u001b[0m\u001b[0;34m\u001b[0m\u001b[0;34m\u001b[0m\u001b[0m\n",
      "\u001b[0;32m/usr/local/lib/python3.10/dist-packages/joblib/parallel.py\u001b[0m in \u001b[0;36m_get_outputs\u001b[0;34m(self, iterator, pre_dispatch)\u001b[0m\n\u001b[1;32m   1593\u001b[0m \u001b[0;34m\u001b[0m\u001b[0m\n\u001b[1;32m   1594\u001b[0m             \u001b[0;32mwith\u001b[0m \u001b[0mself\u001b[0m\u001b[0;34m.\u001b[0m\u001b[0m_backend\u001b[0m\u001b[0;34m.\u001b[0m\u001b[0mretrieval_context\u001b[0m\u001b[0;34m(\u001b[0m\u001b[0;34m)\u001b[0m\u001b[0;34m:\u001b[0m\u001b[0;34m\u001b[0m\u001b[0;34m\u001b[0m\u001b[0m\n\u001b[0;32m-> 1595\u001b[0;31m                 \u001b[0;32myield\u001b[0m \u001b[0;32mfrom\u001b[0m \u001b[0mself\u001b[0m\u001b[0;34m.\u001b[0m\u001b[0m_retrieve\u001b[0m\u001b[0;34m(\u001b[0m\u001b[0;34m)\u001b[0m\u001b[0;34m\u001b[0m\u001b[0;34m\u001b[0m\u001b[0m\n\u001b[0m\u001b[1;32m   1596\u001b[0m \u001b[0;34m\u001b[0m\u001b[0m\n\u001b[1;32m   1597\u001b[0m         \u001b[0;32mexcept\u001b[0m \u001b[0mGeneratorExit\u001b[0m\u001b[0;34m:\u001b[0m\u001b[0;34m\u001b[0m\u001b[0;34m\u001b[0m\u001b[0m\n",
      "\u001b[0;32m/usr/local/lib/python3.10/dist-packages/joblib/parallel.py\u001b[0m in \u001b[0;36m_retrieve\u001b[0;34m(self)\u001b[0m\n\u001b[1;32m   1705\u001b[0m                 (self._jobs[0].get_status(\n\u001b[1;32m   1706\u001b[0m                     timeout=self.timeout) == TASK_PENDING)):\n\u001b[0;32m-> 1707\u001b[0;31m                 \u001b[0mtime\u001b[0m\u001b[0;34m.\u001b[0m\u001b[0msleep\u001b[0m\u001b[0;34m(\u001b[0m\u001b[0;36m0.01\u001b[0m\u001b[0;34m)\u001b[0m\u001b[0;34m\u001b[0m\u001b[0;34m\u001b[0m\u001b[0m\n\u001b[0m\u001b[1;32m   1708\u001b[0m                 \u001b[0;32mcontinue\u001b[0m\u001b[0;34m\u001b[0m\u001b[0;34m\u001b[0m\u001b[0m\n\u001b[1;32m   1709\u001b[0m \u001b[0;34m\u001b[0m\u001b[0m\n",
      "\u001b[0;31mKeyboardInterrupt\u001b[0m: "
     ]
    }
   ],
   "source": [
    "tuned_model = tune_model(best_models[0], optimize='Recall')"
   ]
  },
  {
   "cell_type": "code",
   "execution_count": null,
   "metadata": {
    "id": "Fhv37XjmdcBL"
   },
   "outputs": [],
   "source": []
  }
 ],
 "metadata": {
  "colab": {
   "provenance": []
  },
  "kernelspec": {
   "display_name": "venv",
   "language": "python",
   "name": "python3"
  },
  "language_info": {
   "codemirror_mode": {
    "name": "ipython",
    "version": 3
   },
   "file_extension": ".py",
   "mimetype": "text/x-python",
   "name": "python",
   "nbconvert_exporter": "python",
   "pygments_lexer": "ipython3",
   "version": "3.11.10"
  },
  "widgets": {
   "application/vnd.jupyter.widget-state+json": {
    "17f3efcb79db4b3c9bb8d15494412efd": {
     "model_module": "@jupyter-widgets/base",
     "model_module_version": "1.2.0",
     "model_name": "LayoutModel",
     "state": {
      "_model_module": "@jupyter-widgets/base",
      "_model_module_version": "1.2.0",
      "_model_name": "LayoutModel",
      "_view_count": null,
      "_view_module": "@jupyter-widgets/base",
      "_view_module_version": "1.2.0",
      "_view_name": "LayoutView",
      "align_content": null,
      "align_items": null,
      "align_self": null,
      "border": null,
      "bottom": null,
      "display": null,
      "flex": null,
      "flex_flow": null,
      "grid_area": null,
      "grid_auto_columns": null,
      "grid_auto_flow": null,
      "grid_auto_rows": null,
      "grid_column": null,
      "grid_gap": null,
      "grid_row": null,
      "grid_template_areas": null,
      "grid_template_columns": null,
      "grid_template_rows": null,
      "height": null,
      "justify_content": null,
      "justify_items": null,
      "left": null,
      "margin": null,
      "max_height": null,
      "max_width": null,
      "min_height": null,
      "min_width": null,
      "object_fit": null,
      "object_position": null,
      "order": null,
      "overflow": null,
      "overflow_x": null,
      "overflow_y": null,
      "padding": null,
      "right": null,
      "top": null,
      "visibility": null,
      "width": null
     }
    },
    "2313c1237c7d457caadee740e502e39f": {
     "model_module": "@jupyter-widgets/base",
     "model_module_version": "1.2.0",
     "model_name": "LayoutModel",
     "state": {
      "_model_module": "@jupyter-widgets/base",
      "_model_module_version": "1.2.0",
      "_model_name": "LayoutModel",
      "_view_count": null,
      "_view_module": "@jupyter-widgets/base",
      "_view_module_version": "1.2.0",
      "_view_name": "LayoutView",
      "align_content": null,
      "align_items": null,
      "align_self": null,
      "border": null,
      "bottom": null,
      "display": null,
      "flex": null,
      "flex_flow": null,
      "grid_area": null,
      "grid_auto_columns": null,
      "grid_auto_flow": null,
      "grid_auto_rows": null,
      "grid_column": null,
      "grid_gap": null,
      "grid_row": null,
      "grid_template_areas": null,
      "grid_template_columns": null,
      "grid_template_rows": null,
      "height": null,
      "justify_content": null,
      "justify_items": null,
      "left": null,
      "margin": null,
      "max_height": null,
      "max_width": null,
      "min_height": null,
      "min_width": null,
      "object_fit": null,
      "object_position": null,
      "order": null,
      "overflow": null,
      "overflow_x": null,
      "overflow_y": null,
      "padding": null,
      "right": null,
      "top": null,
      "visibility": null,
      "width": null
     }
    },
    "2797ba627c144ce7844660845b326c1b": {
     "model_module": "@jupyter-widgets/controls",
     "model_module_version": "1.5.0",
     "model_name": "HBoxModel",
     "state": {
      "_dom_classes": [],
      "_model_module": "@jupyter-widgets/controls",
      "_model_module_version": "1.5.0",
      "_model_name": "HBoxModel",
      "_view_count": null,
      "_view_module": "@jupyter-widgets/controls",
      "_view_module_version": "1.5.0",
      "_view_name": "HBoxView",
      "box_style": "",
      "children": [
       "IPY_MODEL_55b98c0ece02490e9b96f61f1cc6f2a7",
       "IPY_MODEL_c636d364b0e84a1e8a2bcaa895086bc7",
       "IPY_MODEL_4654c782803c40fc98f872cd5073d816"
      ],
      "layout": "IPY_MODEL_f72e1d172e294056a34c2039505dcfc9"
     }
    },
    "2d4851fd3f5c406e9bab4aef5ec04863": {
     "model_module": "@jupyter-widgets/controls",
     "model_module_version": "1.5.0",
     "model_name": "DescriptionStyleModel",
     "state": {
      "_model_module": "@jupyter-widgets/controls",
      "_model_module_version": "1.5.0",
      "_model_name": "DescriptionStyleModel",
      "_view_count": null,
      "_view_module": "@jupyter-widgets/base",
      "_view_module_version": "1.2.0",
      "_view_name": "StyleView",
      "description_width": ""
     }
    },
    "35ed386d3af94c16ad02cd821b071616": {
     "model_module": "@jupyter-widgets/base",
     "model_module_version": "1.2.0",
     "model_name": "LayoutModel",
     "state": {
      "_model_module": "@jupyter-widgets/base",
      "_model_module_version": "1.2.0",
      "_model_name": "LayoutModel",
      "_view_count": null,
      "_view_module": "@jupyter-widgets/base",
      "_view_module_version": "1.2.0",
      "_view_name": "LayoutView",
      "align_content": null,
      "align_items": null,
      "align_self": null,
      "border": null,
      "bottom": null,
      "display": null,
      "flex": null,
      "flex_flow": null,
      "grid_area": null,
      "grid_auto_columns": null,
      "grid_auto_flow": null,
      "grid_auto_rows": null,
      "grid_column": null,
      "grid_gap": null,
      "grid_row": null,
      "grid_template_areas": null,
      "grid_template_columns": null,
      "grid_template_rows": null,
      "height": null,
      "justify_content": null,
      "justify_items": null,
      "left": null,
      "margin": null,
      "max_height": null,
      "max_width": null,
      "min_height": null,
      "min_width": null,
      "object_fit": null,
      "object_position": null,
      "order": null,
      "overflow": null,
      "overflow_x": null,
      "overflow_y": null,
      "padding": null,
      "right": null,
      "top": null,
      "visibility": null,
      "width": null
     }
    },
    "4654c782803c40fc98f872cd5073d816": {
     "model_module": "@jupyter-widgets/controls",
     "model_module_version": "1.5.0",
     "model_name": "HTMLModel",
     "state": {
      "_dom_classes": [],
      "_model_module": "@jupyter-widgets/controls",
      "_model_module_version": "1.5.0",
      "_model_name": "HTMLModel",
      "_view_count": null,
      "_view_module": "@jupyter-widgets/controls",
      "_view_module_version": "1.5.0",
      "_view_name": "HTMLView",
      "description": "",
      "description_tooltip": null,
      "layout": "IPY_MODEL_dc42053e28f940d896693320e25397d4",
      "placeholder": "​",
      "style": "IPY_MODEL_2d4851fd3f5c406e9bab4aef5ec04863",
      "value": " 1/7 [00:01&lt;00:07,  1.23s/it]"
     }
    },
    "55b98c0ece02490e9b96f61f1cc6f2a7": {
     "model_module": "@jupyter-widgets/controls",
     "model_module_version": "1.5.0",
     "model_name": "HTMLModel",
     "state": {
      "_dom_classes": [],
      "_model_module": "@jupyter-widgets/controls",
      "_model_module_version": "1.5.0",
      "_model_name": "HTMLModel",
      "_view_count": null,
      "_view_module": "@jupyter-widgets/controls",
      "_view_module_version": "1.5.0",
      "_view_name": "HTMLView",
      "description": "",
      "description_tooltip": null,
      "layout": "IPY_MODEL_35ed386d3af94c16ad02cd821b071616",
      "placeholder": "​",
      "style": "IPY_MODEL_af0a9ea8b548499f856f68ab3a903026",
      "value": "Processing:  14%"
     }
    },
    "5b03edbbceeb4a629d6dbe2196bd09a5": {
     "model_module": "@jupyter-widgets/controls",
     "model_module_version": "1.5.0",
     "model_name": "HBoxModel",
     "state": {
      "_dom_classes": [],
      "_model_module": "@jupyter-widgets/controls",
      "_model_module_version": "1.5.0",
      "_model_name": "HBoxModel",
      "_view_count": null,
      "_view_module": "@jupyter-widgets/controls",
      "_view_module_version": "1.5.0",
      "_view_name": "HBoxView",
      "box_style": "",
      "children": [
       "IPY_MODEL_c1cac8d714e34458a3aa108484984089",
       "IPY_MODEL_da479aeb2b694a028898aa90ec62d26c",
       "IPY_MODEL_aa2c4678cef64ca7abc394b10167c880"
      ],
      "layout": "IPY_MODEL_c27c79ac49c84d05860f1a9c1403e447"
     }
    },
    "650c3747d0ca407e91acf10f5f6e8b2d": {
     "model_module": "@jupyter-widgets/base",
     "model_module_version": "1.2.0",
     "model_name": "LayoutModel",
     "state": {
      "_model_module": "@jupyter-widgets/base",
      "_model_module_version": "1.2.0",
      "_model_name": "LayoutModel",
      "_view_count": null,
      "_view_module": "@jupyter-widgets/base",
      "_view_module_version": "1.2.0",
      "_view_name": "LayoutView",
      "align_content": null,
      "align_items": null,
      "align_self": null,
      "border": null,
      "bottom": null,
      "display": null,
      "flex": null,
      "flex_flow": null,
      "grid_area": null,
      "grid_auto_columns": null,
      "grid_auto_flow": null,
      "grid_auto_rows": null,
      "grid_column": null,
      "grid_gap": null,
      "grid_row": null,
      "grid_template_areas": null,
      "grid_template_columns": null,
      "grid_template_rows": null,
      "height": null,
      "justify_content": null,
      "justify_items": null,
      "left": null,
      "margin": null,
      "max_height": null,
      "max_width": null,
      "min_height": null,
      "min_width": null,
      "object_fit": null,
      "object_position": null,
      "order": null,
      "overflow": null,
      "overflow_x": null,
      "overflow_y": null,
      "padding": null,
      "right": null,
      "top": null,
      "visibility": null,
      "width": null
     }
    },
    "72db45e5d7e1423a82e49bbbd26315bc": {
     "model_module": "@jupyter-widgets/base",
     "model_module_version": "1.2.0",
     "model_name": "LayoutModel",
     "state": {
      "_model_module": "@jupyter-widgets/base",
      "_model_module_version": "1.2.0",
      "_model_name": "LayoutModel",
      "_view_count": null,
      "_view_module": "@jupyter-widgets/base",
      "_view_module_version": "1.2.0",
      "_view_name": "LayoutView",
      "align_content": null,
      "align_items": null,
      "align_self": null,
      "border": null,
      "bottom": null,
      "display": null,
      "flex": null,
      "flex_flow": null,
      "grid_area": null,
      "grid_auto_columns": null,
      "grid_auto_flow": null,
      "grid_auto_rows": null,
      "grid_column": null,
      "grid_gap": null,
      "grid_row": null,
      "grid_template_areas": null,
      "grid_template_columns": null,
      "grid_template_rows": null,
      "height": null,
      "justify_content": null,
      "justify_items": null,
      "left": null,
      "margin": null,
      "max_height": null,
      "max_width": null,
      "min_height": null,
      "min_width": null,
      "object_fit": null,
      "object_position": null,
      "order": null,
      "overflow": null,
      "overflow_x": null,
      "overflow_y": null,
      "padding": null,
      "right": null,
      "top": null,
      "visibility": null,
      "width": null
     }
    },
    "9d6ef0857c0d43488755712196387f49": {
     "model_module": "@jupyter-widgets/controls",
     "model_module_version": "1.5.0",
     "model_name": "DescriptionStyleModel",
     "state": {
      "_model_module": "@jupyter-widgets/controls",
      "_model_module_version": "1.5.0",
      "_model_name": "DescriptionStyleModel",
      "_view_count": null,
      "_view_module": "@jupyter-widgets/base",
      "_view_module_version": "1.2.0",
      "_view_name": "StyleView",
      "description_width": ""
     }
    },
    "aa2c4678cef64ca7abc394b10167c880": {
     "model_module": "@jupyter-widgets/controls",
     "model_module_version": "1.5.0",
     "model_name": "HTMLModel",
     "state": {
      "_dom_classes": [],
      "_model_module": "@jupyter-widgets/controls",
      "_model_module_version": "1.5.0",
      "_model_name": "HTMLModel",
      "_view_count": null,
      "_view_module": "@jupyter-widgets/controls",
      "_view_module_version": "1.5.0",
      "_view_name": "HTMLView",
      "description": "",
      "description_tooltip": null,
      "layout": "IPY_MODEL_17f3efcb79db4b3c9bb8d15494412efd",
      "placeholder": "​",
      "style": "IPY_MODEL_9d6ef0857c0d43488755712196387f49",
      "value": " 31/31 [2:54:41&lt;00:00, 313.14s/it]"
     }
    },
    "af0a9ea8b548499f856f68ab3a903026": {
     "model_module": "@jupyter-widgets/controls",
     "model_module_version": "1.5.0",
     "model_name": "DescriptionStyleModel",
     "state": {
      "_model_module": "@jupyter-widgets/controls",
      "_model_module_version": "1.5.0",
      "_model_name": "DescriptionStyleModel",
      "_view_count": null,
      "_view_module": "@jupyter-widgets/base",
      "_view_module_version": "1.2.0",
      "_view_name": "StyleView",
      "description_width": ""
     }
    },
    "c1cac8d714e34458a3aa108484984089": {
     "model_module": "@jupyter-widgets/controls",
     "model_module_version": "1.5.0",
     "model_name": "HTMLModel",
     "state": {
      "_dom_classes": [],
      "_model_module": "@jupyter-widgets/controls",
      "_model_module_version": "1.5.0",
      "_model_name": "HTMLModel",
      "_view_count": null,
      "_view_module": "@jupyter-widgets/controls",
      "_view_module_version": "1.5.0",
      "_view_name": "HTMLView",
      "description": "",
      "description_tooltip": null,
      "layout": "IPY_MODEL_650c3747d0ca407e91acf10f5f6e8b2d",
      "placeholder": "​",
      "style": "IPY_MODEL_e96fc397484f4b8fa94106fe1d110165",
      "value": "Processing: 100%"
     }
    },
    "c27c79ac49c84d05860f1a9c1403e447": {
     "model_module": "@jupyter-widgets/base",
     "model_module_version": "1.2.0",
     "model_name": "LayoutModel",
     "state": {
      "_model_module": "@jupyter-widgets/base",
      "_model_module_version": "1.2.0",
      "_model_name": "LayoutModel",
      "_view_count": null,
      "_view_module": "@jupyter-widgets/base",
      "_view_module_version": "1.2.0",
      "_view_name": "LayoutView",
      "align_content": null,
      "align_items": null,
      "align_self": null,
      "border": null,
      "bottom": null,
      "display": null,
      "flex": null,
      "flex_flow": null,
      "grid_area": null,
      "grid_auto_columns": null,
      "grid_auto_flow": null,
      "grid_auto_rows": null,
      "grid_column": null,
      "grid_gap": null,
      "grid_row": null,
      "grid_template_areas": null,
      "grid_template_columns": null,
      "grid_template_rows": null,
      "height": null,
      "justify_content": null,
      "justify_items": null,
      "left": null,
      "margin": null,
      "max_height": null,
      "max_width": null,
      "min_height": null,
      "min_width": null,
      "object_fit": null,
      "object_position": null,
      "order": null,
      "overflow": null,
      "overflow_x": null,
      "overflow_y": null,
      "padding": null,
      "right": null,
      "top": null,
      "visibility": "hidden",
      "width": null
     }
    },
    "c636d364b0e84a1e8a2bcaa895086bc7": {
     "model_module": "@jupyter-widgets/controls",
     "model_module_version": "1.5.0",
     "model_name": "FloatProgressModel",
     "state": {
      "_dom_classes": [],
      "_model_module": "@jupyter-widgets/controls",
      "_model_module_version": "1.5.0",
      "_model_name": "FloatProgressModel",
      "_view_count": null,
      "_view_module": "@jupyter-widgets/controls",
      "_view_module_version": "1.5.0",
      "_view_name": "ProgressView",
      "bar_style": "",
      "description": "",
      "description_tooltip": null,
      "layout": "IPY_MODEL_72db45e5d7e1423a82e49bbbd26315bc",
      "max": 7,
      "min": 0,
      "orientation": "horizontal",
      "style": "IPY_MODEL_ef95162d80b944ecaedb4381980a0297",
      "value": 1
     }
    },
    "da479aeb2b694a028898aa90ec62d26c": {
     "model_module": "@jupyter-widgets/controls",
     "model_module_version": "1.5.0",
     "model_name": "FloatProgressModel",
     "state": {
      "_dom_classes": [],
      "_model_module": "@jupyter-widgets/controls",
      "_model_module_version": "1.5.0",
      "_model_name": "FloatProgressModel",
      "_view_count": null,
      "_view_module": "@jupyter-widgets/controls",
      "_view_module_version": "1.5.0",
      "_view_name": "ProgressView",
      "bar_style": "",
      "description": "",
      "description_tooltip": null,
      "layout": "IPY_MODEL_2313c1237c7d457caadee740e502e39f",
      "max": 31,
      "min": 0,
      "orientation": "horizontal",
      "style": "IPY_MODEL_dca9610c4c374f1ab83b3ced99fa2c47",
      "value": 31
     }
    },
    "dc42053e28f940d896693320e25397d4": {
     "model_module": "@jupyter-widgets/base",
     "model_module_version": "1.2.0",
     "model_name": "LayoutModel",
     "state": {
      "_model_module": "@jupyter-widgets/base",
      "_model_module_version": "1.2.0",
      "_model_name": "LayoutModel",
      "_view_count": null,
      "_view_module": "@jupyter-widgets/base",
      "_view_module_version": "1.2.0",
      "_view_name": "LayoutView",
      "align_content": null,
      "align_items": null,
      "align_self": null,
      "border": null,
      "bottom": null,
      "display": null,
      "flex": null,
      "flex_flow": null,
      "grid_area": null,
      "grid_auto_columns": null,
      "grid_auto_flow": null,
      "grid_auto_rows": null,
      "grid_column": null,
      "grid_gap": null,
      "grid_row": null,
      "grid_template_areas": null,
      "grid_template_columns": null,
      "grid_template_rows": null,
      "height": null,
      "justify_content": null,
      "justify_items": null,
      "left": null,
      "margin": null,
      "max_height": null,
      "max_width": null,
      "min_height": null,
      "min_width": null,
      "object_fit": null,
      "object_position": null,
      "order": null,
      "overflow": null,
      "overflow_x": null,
      "overflow_y": null,
      "padding": null,
      "right": null,
      "top": null,
      "visibility": null,
      "width": null
     }
    },
    "dca9610c4c374f1ab83b3ced99fa2c47": {
     "model_module": "@jupyter-widgets/controls",
     "model_module_version": "1.5.0",
     "model_name": "ProgressStyleModel",
     "state": {
      "_model_module": "@jupyter-widgets/controls",
      "_model_module_version": "1.5.0",
      "_model_name": "ProgressStyleModel",
      "_view_count": null,
      "_view_module": "@jupyter-widgets/base",
      "_view_module_version": "1.2.0",
      "_view_name": "StyleView",
      "bar_color": null,
      "description_width": ""
     }
    },
    "e96fc397484f4b8fa94106fe1d110165": {
     "model_module": "@jupyter-widgets/controls",
     "model_module_version": "1.5.0",
     "model_name": "DescriptionStyleModel",
     "state": {
      "_model_module": "@jupyter-widgets/controls",
      "_model_module_version": "1.5.0",
      "_model_name": "DescriptionStyleModel",
      "_view_count": null,
      "_view_module": "@jupyter-widgets/base",
      "_view_module_version": "1.2.0",
      "_view_name": "StyleView",
      "description_width": ""
     }
    },
    "ef95162d80b944ecaedb4381980a0297": {
     "model_module": "@jupyter-widgets/controls",
     "model_module_version": "1.5.0",
     "model_name": "ProgressStyleModel",
     "state": {
      "_model_module": "@jupyter-widgets/controls",
      "_model_module_version": "1.5.0",
      "_model_name": "ProgressStyleModel",
      "_view_count": null,
      "_view_module": "@jupyter-widgets/base",
      "_view_module_version": "1.2.0",
      "_view_name": "StyleView",
      "bar_color": null,
      "description_width": ""
     }
    },
    "f72e1d172e294056a34c2039505dcfc9": {
     "model_module": "@jupyter-widgets/base",
     "model_module_version": "1.2.0",
     "model_name": "LayoutModel",
     "state": {
      "_model_module": "@jupyter-widgets/base",
      "_model_module_version": "1.2.0",
      "_model_name": "LayoutModel",
      "_view_count": null,
      "_view_module": "@jupyter-widgets/base",
      "_view_module_version": "1.2.0",
      "_view_name": "LayoutView",
      "align_content": null,
      "align_items": null,
      "align_self": null,
      "border": null,
      "bottom": null,
      "display": null,
      "flex": null,
      "flex_flow": null,
      "grid_area": null,
      "grid_auto_columns": null,
      "grid_auto_flow": null,
      "grid_auto_rows": null,
      "grid_column": null,
      "grid_gap": null,
      "grid_row": null,
      "grid_template_areas": null,
      "grid_template_columns": null,
      "grid_template_rows": null,
      "height": null,
      "justify_content": null,
      "justify_items": null,
      "left": null,
      "margin": null,
      "max_height": null,
      "max_width": null,
      "min_height": null,
      "min_width": null,
      "object_fit": null,
      "object_position": null,
      "order": null,
      "overflow": null,
      "overflow_x": null,
      "overflow_y": null,
      "padding": null,
      "right": null,
      "top": null,
      "visibility": null,
      "width": null
     }
    }
   }
  }
 },
 "nbformat": 4,
 "nbformat_minor": 0
}
